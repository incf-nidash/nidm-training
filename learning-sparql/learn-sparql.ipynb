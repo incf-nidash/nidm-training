{
 "cells": [
  {
   "cell_type": "markdown",
   "metadata": {
    "slideshow": {
     "slide_type": "slide"
    }
   },
   "source": [
    "# Making queries on RDF with SPARQL"
   ]
  },
  {
   "cell_type": "markdown",
   "metadata": {
    "slideshow": {
     "slide_type": "slide"
    }
   },
   "source": [
    "#### Basic Graph Patterns\n",
    "Let's start out by querying just one triple pattern (an RDF triple with variables). Several triples with variables grouped together are called a Basic Graph Pattern. This is the most basic kind of query.\n",
    "\n",
    "Recall that variables are prefixed with (`?`) a question mark.\n",
    "\n",
    "Also recall that the words \"URI\" and \"resource\" are often used interchagably."
   ]
  },
  {
   "cell_type": "markdown",
   "metadata": {
    "slideshow": {
     "slide_type": "slide"
    }
   },
   "source": [
    "**Query 1:** This query returns all of the URIs that identify cities that are of type \"Cities in Texas\". Recall that RDF resources are identified by URI; it is common to use URI and resource interchangeably when talking about queries.\n",
    "\n",
    "```\n",
    "PREFIX rdf: <http://www.w3.org/1999/02/22-rdf-syntax-ns#>\n",
    "SELECT * WHERE {\n",
    "    ?city rdf:type <http://dbpedia.org/class/yago/CitiesInTexas>\n",
    "}\n",
    "```\n",
    "\n",
    "Copy and paste this into DBpedia's SPARQL UI. If you run the query, you'll be rewarded with a table containing a rather long list of cities in Texas."
   ]
  },
  {
   "cell_type": "code",
   "execution_count": null,
   "metadata": {
    "collapsed": false,
    "slideshow": {
     "slide_type": "subslide"
    }
   },
   "outputs": [],
   "source": [
    "from IPython.display import IFrame, display\n",
    "query_string = \"http://yasgui.org/#query=PREFIX+rdf%3A+%3Chttp%3A%2F%2Fwww.w3.org%2F1999%2F02%2F22-rdf-syntax-ns%23%3E%0ASELECT+*+WHERE+%7B%0A++++%3Fcity+rdf%3Atype+%3Chttp%3A%2F%2Fdbpedia.org%2Fclass%2Fyago%2FCitiesInTexas%3E%0A%7D%0A&contentTypeConstruct=text%2Fturtle&contentTypeSelect=application%2Fsparql-results%2Bjson&endpoint=http%3A%2F%2Fdbpedia.org%2Fsparql&requestMethod=POST&tabTitle=Query&headers=%7B%7D&outputFormat=table\"\n",
    "display(IFrame(query_string, height = 480, width = \"90%\"))"
   ]
  },
  {
   "cell_type": "markdown",
   "metadata": {
    "slideshow": {
     "slide_type": "slide"
    }
   },
   "source": [
    "Now let's add another triple into the query.\n",
    "\n",
    "**Query 2:** This query returns the cities that are of type \"Cities in Texas\" as well as their total populations.\n",
    "\n",
    "```\n",
    "PREFIX rdf: <http://www.w3.org/1999/02/22-rdf-syntax-ns#>\n",
    "PREFIX rdfs: <http://www.w3.org/2000/01/rdf-schema#>\n",
    "PREFIX dbp: <http://dbpedia.org/ontology/>\n",
    "SELECT * WHERE {\n",
    "    ?city rdf:type <http://dbpedia.org/class/yago/CitiesInTexas> .\n",
    "    ?city dbp:populationTotal ?popTotal .\n",
    "}\n",
    "```\n",
    "\n",
    "Notice that the variable ?city is used as the subject of both triples in the query, matching two statements on a single resource.\n",
    "\n",
    "If you type this into the DBpedia SPARQL UI you'll see that the results page is largely the same as the first query, but there is now a new column with the extra information requested."
   ]
  },
  {
   "cell_type": "code",
   "execution_count": null,
   "metadata": {
    "collapsed": false,
    "slideshow": {
     "slide_type": "subslide"
    }
   },
   "outputs": [],
   "source": [
    "query_string = \"http://yasgui.org/#query=PREFIX+rdf%3A+%3Chttp%3A%2F%2Fwww.w3.org%2F1999%2F02%2F22-rdf-syntax-ns%23%3E%0APREFIX+rdfs%3A+%3Chttp%3A%2F%2Fwww.w3.org%2F2000%2F01%2Frdf-schema%23%3E%0APREFIX+dbp%3A+%3Chttp%3A%2F%2Fdbpedia.org%2Fontology%2F%3E%0ASELECT+*+WHERE+%7B%0A++++%3Fcity+rdf%3Atype+%3Chttp%3A%2F%2Fdbpedia.org%2Fclass%2Fyago%2FCitiesInTexas%3E+.%0A++++%3Fcity+dbp%3ApopulationTotal+%3FpopTotal+.%0A%7D&contentTypeConstruct=text%2Fturtle&contentTypeSelect=application%2Fsparql-results%2Bjson&endpoint=http%3A%2F%2Fdbpedia.org%2Fsparql&requestMethod=POST&tabTitle=Query&headers=%7B%7D&outputFormat=table\"\n",
    "display(IFrame(query_string, height = 480, width = \"90%\"))"
   ]
  },
  {
   "cell_type": "markdown",
   "metadata": {
    "slideshow": {
     "slide_type": "subslide"
    }
   },
   "source": [
    "SPARQL uses the Turtle syntax (described originally in the lesson RDF Nuts & Bolts), so the following query is the same:\n",
    "\n",
    "```\n",
    "PREFIX rdf: <http://www.w3.org/1999/02/22-rdf-syntax-ns#>\n",
    "PREFIX rdfs: <http://www.w3.org/2000/01/rdf-schema#>\n",
    "PREFIX dbp: <http://dbpedia.org/ontology/>\n",
    "SELECT * WHERE {\n",
    "    ?city rdf:type <http://dbpedia.org/class/yago/CitiesInTexas> ;\n",
    "          dbp:populationTotal ?popTotal .\n",
    "}\n",
    "```\n",
    "\n",
    "*Can you tell what's different, and why the two queries are, in effect, identical?*"
   ]
  },
  {
   "cell_type": "markdown",
   "metadata": {
    "slideshow": {
     "slide_type": "slide"
    }
   },
   "source": [
    "Let's add another triple pattern. This is a Basic Graph Pattern with three triple patterns.\n",
    "\n",
    "**Query 3:** This query returns the cities that are of type \"Cities in Texas\" with their total populations and metro populations.\n",
    "\n",
    "```\n",
    "PREFIX rdf: <http://www.w3.org/1999/02/22-rdf-syntax-ns#>\n",
    "PREFIX rdfs: <http://www.w3.org/2000/01/rdf-schema#>\n",
    "PREFIX dbp: <http://dbpedia.org/ontology/>\n",
    "SELECT * WHERE {\n",
    "    ?city rdf:type <http://dbpedia.org/class/yago/CitiesInTexas> ;\n",
    "    dbp:populationTotal ?popTotal ;\n",
    "    dbp:populationMetro ?popMetro . \n",
    "}\n",
    "```\n",
    "\n",
    "Try this in the DBpedia SPARQL UI. Now the size of the results has shrunk dramatically from the previous queries! Why would that be, given that the query itself is asking for more information, not less?"
   ]
  },
  {
   "cell_type": "code",
   "execution_count": null,
   "metadata": {
    "collapsed": false,
    "slideshow": {
     "slide_type": "subslide"
    }
   },
   "outputs": [],
   "source": [
    "query_string = \"http://yasgui.org/#query=PREFIX+rdf%3A+%3Chttp%3A%2F%2Fwww.w3.org%2F1999%2F02%2F22-rdf-syntax-ns%23%3E%0APREFIX+rdfs%3A+%3Chttp%3A%2F%2Fwww.w3.org%2F2000%2F01%2Frdf-schema%23%3E%0APREFIX+dbp%3A+%3Chttp%3A%2F%2Fdbpedia.org%2Fontology%2F%3E%0APREFIX+xsd%3A+%3Chttp%3A%2F%2Fwww.w3.org%2F2001%2FXMLSchema%23%3E%0ASELECT++*%0AWHERE+%7B%0A++++%3Fcity+rdf%3Atype+%3Chttp%3A%2F%2Fdbpedia.org%2Fclass%2Fyago%2FCitiesInTexas%3E+%3B%0A++++dbp%3ApopulationTotal+%3FpopTotal+%3B%0A++++dbp%3ApopulationMetro+%3FpopMetro+.+%0A%7D&contentTypeConstruct=text%2Fturtle&contentTypeSelect=application%2Fsparql-results%2Bjson&endpoint=http%3A%2F%2Fdbpedia.org%2Fsparql&requestMethod=POST&tabTitle=Query&headers=%7B%7D&outputFormat=table\"\n",
    "display(IFrame(query_string, height = 480, width = \"90%\"))"
   ]
  },
  {
   "cell_type": "code",
   "execution_count": null,
   "metadata": {
    "collapsed": false,
    "slideshow": {
     "slide_type": "subslide"
    }
   },
   "outputs": [],
   "source": [
    "query_string = \"http://yasgui.org/#query=PREFIX+rdf%3A+%3Chttp%3A%2F%2Fwww.w3.org%2F1999%2F02%2F22-rdf-syntax-ns%23%3E%0APREFIX+rdfs%3A+%3Chttp%3A%2F%2Fwww.w3.org%2F2000%2F01%2Frdf-schema%23%3E%0APREFIX+dbp%3A+%3Chttp%3A%2F%2Fdbpedia.org%2Fontology%2F%3E%0APREFIX+xsd%3A+%3Chttp%3A%2F%2Fwww.w3.org%2F2001%2FXMLSchema%23%3E%0ASELECT++xsd%3Aint(%3FpopTotal)+as+%3FpopTotalInt+xsd%3Aint(%3FpopMetro)+as+%3FpopMetroInt+%0AWHERE+%7B%0A++++%3Fcity+rdf%3Atype+%3Chttp%3A%2F%2Fdbpedia.org%2Fclass%2Fyago%2FCitiesInTexas%3E+%3B%0A++++dbp%3ApopulationTotal+%3FpopTotal+%3B%0A++++dbp%3ApopulationMetro+%3FpopMetro+.+%0A%7D&contentTypeConstruct=text%2Fturtle&contentTypeSelect=application%2Fsparql-results%2Bjson&endpoint=http%3A%2F%2Fdbpedia.org%2Fsparql&requestMethod=POST&tabTitle=Query&headers=%7B%7D&outputFormat=table\"\n",
    "display(IFrame(query_string, height = 480, width = \"90%\"))"
   ]
  },
  {
   "cell_type": "markdown",
   "metadata": {
    "slideshow": {
     "slide_type": "slide"
    }
   },
   "source": [
    "In fact, by asking for the additional information we are putting an implicit restriction on the query. Specifically, the query will return results only for cities that have values for both `?popTotal` and `?popMetro`. Cities that only have `?popTotal` but not `?popMetro` do not show up anymore.\n",
    "\n",
    "That is, we are asking for cities that have values for both total population and metro population. If a city resource lacks or the other the graph pattern in the query won't match the data.\n",
    "\n",
    "But what if we want all cities to appear, regardless if they have a metro population? This is where the OPTIONAL clause comes in."
   ]
  },
  {
   "cell_type": "markdown",
   "metadata": {
    "slideshow": {
     "slide_type": "slide"
    }
   },
   "source": [
    "#### Dealing with Missing or Sparse Data using OPTIONAL\n",
    "The idea of the OPTIONAL clause is to enable to you to bring data if it exists, but to ignore it if it does not. This is a key way in which SPARQL deals with sparse data and missing values elegantly.\n",
    "\n",
    "If you are coming from the SQL world, the SPARQL OPTIONAL operator is equivalent to a Left Outer Join. In other words, the results will always include values from the \"left part\" of the query, even if there is nothing that matches the \"right part\" of the query."
   ]
  },
  {
   "cell_type": "markdown",
   "metadata": {
    "slideshow": {
     "slide_type": "subslide"
    }
   },
   "source": [
    "**Query 4:** This query returns the cities that are of type \"Cities in Texas\" and their total population and optionally the metro population, if it exists.\n",
    "\n",
    "```\n",
    "PREFIX rdf: <http://www.w3.org/1999/02/22-rdf-syntax-ns#>\n",
    "PREFIX rdfs: <http://www.w3.org/2000/01/rdf-schema#>\n",
    "PREFIX dbp: <http://dbpedia.org/ontology/>\n",
    "SELECT * WHERE {\n",
    "    ?city rdf:type <http://dbpedia.org/class/yago/CitiesInTexas> ;\n",
    "    dbp:populationTotal ?popTotal .\n",
    "    OPTIONAL {?city dbp:populationMetro ?popMetro . }\n",
    "}\n",
    "```\n",
    "\n",
    "Again, the reason why we need the OPTIONAL operator is because there can be missing information in RDF.  If you are coming from the SQL world, missing information is represented with NULL. However, there are no NULLs in RDF.\n",
    "\n",
    "**Let's say that again: there are no NULL values in RDF.**"
   ]
  },
  {
   "cell_type": "code",
   "execution_count": null,
   "metadata": {
    "collapsed": false,
    "slideshow": {
     "slide_type": "slide"
    }
   },
   "outputs": [],
   "source": [
    "query_string = \"http://yasgui.org/#query=PREFIX+rdf%3A+%3Chttp%3A%2F%2Fwww.w3.org%2F1999%2F02%2F22-rdf-syntax-ns%23%3E%0APREFIX+rdfs%3A+%3Chttp%3A%2F%2Fwww.w3.org%2F2000%2F01%2Frdf-schema%23%3E%0APREFIX+dbp%3A+%3Chttp%3A%2F%2Fdbpedia.org%2Fontology%2F%3E%0ASELECT+*+WHERE+%7B%0A++++%3Fcity+rdf%3Atype+%3Chttp%3A%2F%2Fdbpedia.org%2Fclass%2Fyago%2FCitiesInTexas%3E+%3B%0A++++dbp%3ApopulationTotal+%3FpopTotal+.%0A++++OPTIONAL+%7B%3Fcity+dbp%3ApopulationMetro+%3FpopMetro+.+%7D%0A%7D&contentTypeConstruct=text%2Fturtle&contentTypeSelect=application%2Fsparql-results%2Bjson&endpoint=http%3A%2F%2Fdbpedia.org%2Fsparql&requestMethod=POST&tabTitle=Query&headers=%7B%7D&outputFormat=table\"\n",
    "display(IFrame(query_string, height = 480, width = \"90%\"))"
   ]
  },
  {
   "cell_type": "markdown",
   "metadata": {
    "slideshow": {
     "slide_type": "slide"
    }
   },
   "source": [
    "Either a triple exists or it does not. In fact, since RDF data is independent from its physical data representation, the whole idea of NULL is completely unnecessary.\n",
    "\n",
    "NULL values in relational databases are just a manifestation of the tabular logical data model; there needed to be some way to represent an empty cell. In SQL, if in a record a value is NULL and you do SELECT * FROM table, you still get the NULL in the result.\n",
    "\n",
    "This is not the case in SPARQL. Instead, you don't get the record at all (as we illustrated in Query 3). If you still want to get the record, you need to use OPTIONAL.\n",
    "\n",
    "In general you should use OPTIONAL for all data that you would like to get back, but that doesn't help filter the appropriate result set by acting as a requirement. For example, you'll often use OPTIONAL for predicates that you're not sure will contain much data, or that you can use if present but ignore if not in an application context."
   ]
  },
  {
   "cell_type": "markdown",
   "metadata": {
    "slideshow": {
     "slide_type": "skip"
    }
   },
   "source": [
    "#### Solution Modifiers: ORDER BY, LIMIT, OFFSET\n",
    "Basic graph pattern matching shown above enables you to select for data. However, you usually don't want all data that might match the pattern to be returned for every query. You want data returned in a certain order, and usually only want to see a few results at a time.\n",
    "\n",
    "This is where ORDER BY, LIMIT, and OFFSET come in hand. Together they enable you to pull down query results a page at a time. If you're coming from the SQL world, these operators are equivalent to the same clauses in SQL."
   ]
  },
  {
   "cell_type": "markdown",
   "metadata": {
    "slideshow": {
     "slide_type": "skip"
    }
   },
   "source": [
    "Let's start with ORDER BY. The ORDER BY clause establishes the order of the results and can be in ascending or descending order.\n",
    "\n",
    "**Query 5:** This query returns the cities that are of type \"Cities in Texas\", their total population, and optionally their metro populations. The results are returned in the order of their total populations (so big cities like Houston would be the first results).\n",
    "\n",
    "```\n",
    "PREFIX rdf: <http://www.w3.org/1999/02/22-rdf-syntax-ns#>\n",
    "PREFIX rdfs: <http://www.w3.org/2000/01/rdf-schema#>\n",
    "PREFIX dbp: <http://dbpedia.org/ontology/>\n",
    "SELECT * WHERE {\n",
    "    ?city rdf:type <http://dbpedia.org/class/yago/CitiesInTexas> ;\n",
    "    dbp:populationTotal ?popTotal .\n",
    "    OPTIONAL {?city dbp:populationMetro ?popMetro . }\n",
    "}\n",
    "ORDER BY desc(?popTotal)\n",
    "```\n",
    "\n",
    "You can also use `asc()` option to return the results in ascending order."
   ]
  },
  {
   "cell_type": "markdown",
   "metadata": {
    "slideshow": {
     "slide_type": "skip"
    }
   },
   "source": [
    "The LIMIT clause puts an upper bound on the number of results. The OFFSET clause causes the results to start after the specified number. These clauses are often used in conjunction with ORDER BY to implement result paging.\n",
    "\n",
    "**Query 6:** This query returns the cities that are of type \"Cities in Texas\", their total population, and optionally their metro populations. The results are returned in the order of their total populations (so big cities would be the top results). At most 10 results will be returned, starting with the 5th result.\n",
    "\n",
    "```\n",
    "PREFIX rdf: <http://www.w3.org/1999/02/22-rdf-syntax-ns#>\n",
    "PREFIX rdfs: <http://www.w3.org/2000/01/rdf-schema#>\n",
    "PREFIX dbp: <http://dbpedia.org/ontology/>\n",
    "SELECT * WHERE {\n",
    "    ?city rdf:type <http://dbpedia.org/class/yago/CitiesInTexas> ;\n",
    "    dbp:populationTotal ?popTotal .\n",
    "    OPTIONAL {?city dbp:populationMetro ?popMetro. }\n",
    "}\n",
    "ORDER BY desc(?popTotal)\n",
    "LIMIT 10\n",
    "OFFSET 5\n",
    "```"
   ]
  },
  {
   "cell_type": "markdown",
   "metadata": {
    "slideshow": {
     "slide_type": "slide"
    }
   },
   "source": [
    "Remove results: FILTER\n",
    "At this point we've shown how to match data and how to order the results. However, basic match patterns are not enough, as you also need to be able to filter out results that match the pattern but are not wanted.\n",
    "\n",
    "A FILTER clause restricts which results are returned. You can use filters to do things like:\n",
    "\n",
    "```\n",
    "Don't return cities with populations greater than 50,000\n",
    "Don't return cities with names that begin with the letter A\n",
    "Don't return cities with a mayor who has a son named Rob\n",
    "Etc.\n",
    "```\n",
    "\n",
    "With graph patterns and filters, SPARQL becomes a very powerful language for selecting only data that matches very specific criteria."
   ]
  },
  {
   "cell_type": "markdown",
   "metadata": {
    "slideshow": {
     "slide_type": "slide"
    }
   },
   "source": [
    "Now let's add some constraints to our query. We can do this with the FILTER operator, which uses Boolean conditions to filter out unwanted results. The following filters are allowed:\n",
    "\n",
    "```\n",
    "Logical: &&, ||, !\n",
    "Mathematical: +, -, *, /\n",
    "Comparison: =, !=, <, >, <=, >=\n",
    "SPARQL tests: isURI, isBlank, isLiteral, bound\n",
    "SPARQL accessors: str, lang, datatype\n",
    "Other: sameTerm, langMatches, regex\n",
    "```"
   ]
  },
  {
   "cell_type": "markdown",
   "metadata": {
    "slideshow": {
     "slide_type": "slide"
    }
   },
   "source": [
    "**Query 7:** This is the same as Query 6, but returns only cities that have a total population of more than 50,000.\n",
    "\n",
    "```\n",
    "PREFIX rdf: <http://www.w3.org/1999/02/22-rdf-syntax-ns#>\n",
    "PREFIX rdfs: <http://www.w3.org/2000/01/rdf-schema#>\n",
    "PREFIX dbp: <http://dbpedia.org/ontology/>\n",
    "SELECT * WHERE {\n",
    "    ?city rdf:type <http://dbpedia.org/class/yago/CitiesInTexas> ;\n",
    "    dbp:populationTotal ?popTotal .\n",
    "    OPTIONAL {?city dbp:populationMetro ?popMetro . }\n",
    "    FILTER (?popTotal > 50000)\n",
    "}\n",
    "ORDER BY desc(?popTotal)\n",
    "```"
   ]
  },
  {
   "cell_type": "code",
   "execution_count": null,
   "metadata": {
    "collapsed": false,
    "slideshow": {
     "slide_type": "slide"
    }
   },
   "outputs": [],
   "source": [
    "query_string = \"http://yasgui.org/#query=PREFIX+rdf%3A+%3Chttp%3A%2F%2Fwww.w3.org%2F1999%2F02%2F22-rdf-syntax-ns%23%3E%0APREFIX+rdfs%3A+%3Chttp%3A%2F%2Fwww.w3.org%2F2000%2F01%2Frdf-schema%23%3E%0APREFIX+dbp%3A+%3Chttp%3A%2F%2Fdbpedia.org%2Fontology%2F%3E%0ASELECT+*+WHERE+%7B%0A++++%3Fcity+rdf%3Atype+%3Chttp%3A%2F%2Fdbpedia.org%2Fclass%2Fyago%2FCitiesInTexas%3E+%3B%0A++++dbp%3ApopulationTotal+%3FpopTotal+.%0A++++OPTIONAL+%7B%3Fcity+dbp%3ApopulationMetro+%3FpopMetro+.+%7D%0A++++FILTER+(%3FpopTotal+%3E+50000)%0A%7D%0AORDER+BY+desc(%3FpopTotal)&contentTypeConstruct=text%2Fturtle&contentTypeSelect=application%2Fsparql-results%2Bjson&endpoint=http%3A%2F%2Fdbpedia.org%2Fsparql&requestMethod=POST&tabTitle=Query&headers=%7B%7D&outputFormat=table\"\n",
    "display(IFrame(query_string, height = 480, width = \"90%\"))"
   ]
  },
  {
   "cell_type": "markdown",
   "metadata": {
    "slideshow": {
     "slide_type": "slide"
    }
   },
   "source": [
    "**Query 8:** This query is the same as query 7, but brings back the human readable name of each city with the results.\n",
    "\n",
    "`rdfs:label` is an RDFS predicate commonly used to represent the human-readable name of a resource. You will likely see either this or dc:title from the Dublin Core Metadata Initiative used in most ontologies.\n",
    "\n",
    "```\n",
    "PREFIX rdf: <http://www.w3.org/1999/02/22-rdf-syntax-ns#>\n",
    "PREFIX rdfs: <http://www.w3.org/2000/01/rdf-schema#>\n",
    "PREFIX dbp: <http://dbpedia.org/ontology/>\n",
    "SELECT * WHERE {\n",
    "    ?city rdf:type <http://dbpedia.org/class/yago/CitiesInTexas> ;\n",
    "    dbp:populationTotal ?popTotal ;\n",
    "    rdfs:label ?name\n",
    "    OPTIONAL {?city dbp:populationMetro ?popMetro . }\n",
    "    FILTER (?popTotal > 50000)\n",
    "}\n",
    "ORDER BY desc(?popTotal)\n",
    "```\n",
    "What happened?! There are now several result rows for each city resource. Why is that?\n",
    "\n",
    "This is a common occurrence in RDF. Unlike SQL, it is very easy to assign multiple values to a resource for a specific property. In this case, there is an rdfs:label for multiple languages in the dataset.\n",
    "\n",
    "In our simple tabular result format therefore we'll get multiple results for each repeated value."
   ]
  },
  {
   "cell_type": "code",
   "execution_count": null,
   "metadata": {
    "collapsed": false,
    "slideshow": {
     "slide_type": "slide"
    }
   },
   "outputs": [],
   "source": [
    "query_string = \"http://yasgui.org/#query=PREFIX+rdf%3A+%3Chttp%3A%2F%2Fwww.w3.org%2F1999%2F02%2F22-rdf-syntax-ns%23%3E%0APREFIX+rdfs%3A+%3Chttp%3A%2F%2Fwww.w3.org%2F2000%2F01%2Frdf-schema%23%3E%0APREFIX+dbp%3A+%3Chttp%3A%2F%2Fdbpedia.org%2Fontology%2F%3E%0ASELECT+*+WHERE+%7B%0A++++%3Fcity+rdf%3Atype+%3Chttp%3A%2F%2Fdbpedia.org%2Fclass%2Fyago%2FCitiesInTexas%3E+%3B%0A++++dbp%3ApopulationTotal+%3FpopTotal+%3B%0A++++rdfs%3Alabel+%3Fname%0A++++OPTIONAL+%7B%3Fcity+dbp%3ApopulationMetro+%3FpopMetro+.+%7D%0A++++FILTER+(%3FpopTotal+%3E+50000)%0A%7D%0AORDER+BY+desc(%3FpopTotal)&contentTypeConstruct=text%2Fturtle&contentTypeSelect=application%2Fsparql-results%2Bjson&endpoint=http%3A%2F%2Fdbpedia.org%2Fsparql&requestMethod=POST&tabTitle=Query&headers=%7B%7D&outputFormat=table\"\n",
    "display(IFrame(query_string, height = 480, width = \"90%\"))"
   ]
  },
  {
   "cell_type": "markdown",
   "metadata": {
    "slideshow": {
     "slide_type": "slide"
    }
   },
   "source": [
    "Since we don't need all the results for all languages, we can simplify the query by requesting only the English values be returned. In this way, RDF and SPARQL naturally support internationalization.\n",
    "\n",
    "**Query 9:** Query 8, but requesting only English labels for the matching patterns.\n",
    "```\n",
    "PREFIX rdf: <http://www.w3.org/1999/02/22-rdf-syntax-ns#>\n",
    "PREFIX rdfs: <http://www.w3.org/2000/01/rdf-schema#>\n",
    "PREFIX dbp: <http://dbpedia.org/ontology/>\n",
    "SELECT * WHERE {\n",
    "    ?city rdf:type <http://dbpedia.org/class/yago/CitiesInTexas> ;\n",
    "    dbp:populationTotal ?popTotal ;\n",
    "    rdfs:label ?name\n",
    "    OPTIONAL {?city dbp:populationMetro ?popMetro. }\n",
    "    FILTER (?popTotal > 50000 && langmatches(lang(?name), \"EN\"))\n",
    "}\n",
    "ORDER BY desc(?popTotal)\n",
    "```\n",
    "\n",
    "The `lang` operator extracts the language tag of the value that is bound to `?name`. The `langmatches` operator matches the first language tag with the second language range."
   ]
  },
  {
   "cell_type": "code",
   "execution_count": null,
   "metadata": {
    "collapsed": false,
    "slideshow": {
     "slide_type": "slide"
    }
   },
   "outputs": [],
   "source": [
    "query_string = \"http://yasgui.org/#query=PREFIX+rdf%3A+%3Chttp%3A%2F%2Fwww.w3.org%2F1999%2F02%2F22-rdf-syntax-ns%23%3E%0APREFIX+rdfs%3A+%3Chttp%3A%2F%2Fwww.w3.org%2F2000%2F01%2Frdf-schema%23%3E%0APREFIX+dbp%3A+%3Chttp%3A%2F%2Fdbpedia.org%2Fontology%2F%3E%0ASELECT+%3Fname+%3FpopTotal+WHERE+%7B%0A++++%3Fcity+rdf%3Atype+%3Chttp%3A%2F%2Fdbpedia.org%2Fclass%2Fyago%2FCitiesInTexas%3E+%3B%0A++++dbp%3ApopulationTotal+%3FpopTotal+%3B%0A++++rdfs%3Alabel+%3Fname%0A++++OPTIONAL+%7B%3Fcity+dbp%3ApopulationMetro+%3FpopMetro.+%7D%0A++++FILTER+(%3FpopTotal+%3E+50000+%26%26+langmatches(lang(%3Fname)%2C+%22EN%22))%0A%7D%0AORDER+BY+desc(%3FpopTotal)&contentTypeConstruct=text%2Fturtle&contentTypeSelect=application%2Fsparql-results%2Bjson&endpoint=http%3A%2F%2Fdbpedia.org%2Fsparql&requestMethod=POST&tabTitle=Query&headers=%7B%7D&outputFormat=table\"\n",
    "display(IFrame(query_string, height = 480, width = \"90%\"))"
   ]
  },
  {
   "cell_type": "markdown",
   "metadata": {
    "slideshow": {
     "slide_type": "slide"
    }
   },
   "source": [
    "The previous query can be rewritten equivalently without the langmatches operator and using \"=\" and \"en\" (lowercase) instead of \"EN\" (uppercase):\n",
    "\n",
    "```\n",
    "PREFIX rdf: <http://www.w3.org/1999/02/22-rdf-syntax-ns#>\n",
    "PREFIX rdfs: <http://www.w3.org/2000/01/rdf-schema#>\n",
    "PREFIX dbp: <http://dbpedia.org/ontology/>\n",
    "SELECT * WHERE {\n",
    "    ?city rdf:type <http://dbpedia.org/class/yago/CitiesInTexas> ;\n",
    "    dbp:populationTotal ?popTotal ;\n",
    "    rdfs:label ?name\n",
    "    OPTIONAL {?city dbp:populationMetro ?popMetro. }\n",
    "    FILTER (?popTotal > 50000 && lang(?name) = \"en\")\n",
    "}\n",
    "ORDER BY desc(?popTotal)\n",
    "```"
   ]
  },
  {
   "cell_type": "markdown",
   "metadata": {
    "slideshow": {
     "slide_type": "slide"
    }
   },
   "source": [
    "**Query 10:** This query shows how to use regular expression filters. It is the same as Query 9, but matching only cities with \"El\" in their names.\n",
    "\n",
    "```\n",
    "PREFIX rdf: <http://www.w3.org/1999/02/22-rdf-syntax-ns#>\n",
    "PREFIX rdfs: <http://www.w3.org/2000/01/rdf-schema#>\n",
    "PREFIX dbp: <http://dbpedia.org/ontology/>\n",
    "SELECT * WHERE {\n",
    "    ?city rdf:type <http://dbpedia.org/class/yago/CitiesInTexas> ;\n",
    "    dbp:populationTotal ?popTotal ;\n",
    "    rdfs:label ?name\n",
    "    OPTIONAL {?city dbp:populationMetro ?popMetro. }\n",
    "    FILTER (?popTotal > 50000 &&\n",
    "        langmatches(lang(?name), \"EN\") &&\n",
    "        regex(str(?name), \"El\"))\n",
    "}\n",
    "ORDER BY desc(?popTotal)\n",
    "```\n",
    "\n",
    "The `str` operator extracts the string of the value that is bound to `?name`. The regex operator allows regular expressions, and specifically any regular expressions accepted by XQuery. The syntax should be familiar to anyone who has used standard regular expressions before.\n",
    "\n",
    "One common mistake beginners make with regular expressions is to forget that they are case sensitive. Run the previous query with \"el\" instead of \"El\" and see what happens."
   ]
  },
  {
   "cell_type": "markdown",
   "metadata": {},
   "source": [
    "#### Negation: where is the NOT operator?\n",
    "\n",
    "An important feature in any query language is negation. However, in SPARQL 1.0, there is no explicit negation operator.\n",
    "\n",
    "Nevertheless negation is possible through Negation as Failure and is written using the OPTIONAL clause, BOUND operator, and the logical not (`!`) operator. The OPTIONAL operator binds variables to the triples that it wants to exclude, and the filter removes those cases.\n",
    "\n",
    "This sounds pretty complicated, but it's really quite simple once you see it in action."
   ]
  },
  {
   "cell_type": "markdown",
   "metadata": {
    "slideshow": {
     "slide_type": "slide"
    }
   },
   "source": [
    "**Query 11:** This query is the same as before, except that it returns only cities that do not have a metro population.\n",
    "\n",
    "```\n",
    "PREFIX rdf: <http://www.w3.org/1999/02/22-rdf-syntax-ns#>\n",
    "PREFIX rdfs: <http://www.w3.org/2000/01/rdf-schema#>\n",
    "PREFIX dbp: <http://dbpedia.org/ontology/>\n",
    "SELECT * WHERE {\n",
    "    ?city rdf:type <http://dbpedia.org/class/yago/CitiesInTexas> ;\n",
    "    dbp:populationTotal ?popTotal ;\n",
    "    rdfs:label ?name\n",
    "    OPTIONAL {?city dbp:populationMetro ?popMetro. }\n",
    "    FILTER (?popTotal > 50000 && langmatches(lang(?name), \"EN\") )\n",
    "    FILTER(!bound(?popMetro))\n",
    "}\n",
    "ORDER BY desc(?popTotal)\n",
    "```\n",
    "\n",
    "To understand how this works, first realize that you need the `OPTIONAL` clause to prevent yourself from incorrectly requiring a value for dbp:populationMetro to be bound to a query result.\n",
    "\n",
    "Next, let's look at the new filter clause. The `BOUND` operator is simply a boolean test that returns whether or not a specific property is bound in the result being returned. You can think of \"bound\" as \"matched\" or \"not null.\" So when combined with the logical not operator (`!`) the filter is \"match cities where the total population is not bound to any value.\"\n",
    "\n",
    "Success!"
   ]
  },
  {
   "cell_type": "code",
   "execution_count": null,
   "metadata": {
    "collapsed": false
   },
   "outputs": [],
   "source": [
    "from IPython.display import IFrame, display\n",
    "query_string = \"http://yasgui.org/#query=PREFIX+rdf%3A+%3Chttp%3A%2F%2Fwww.w3.org%2F1999%2F02%2F22-rdf-syntax-ns%23%3E%0APREFIX+rdfs%3A+%3Chttp%3A%2F%2Fwww.w3.org%2F2000%2F01%2Frdf-schema%23%3E%0APREFIX+dbp%3A+%3Chttp%3A%2F%2Fdbpedia.org%2Fontology%2F%3E%0ASELECT+*+WHERE+%7B%0A++++%3Fcity+rdf%3Atype+%3Chttp%3A%2F%2Fdbpedia.org%2Fclass%2Fyago%2FCitiesInTexas%3E+%3B%0A++++dbp%3ApopulationTotal+%3FpopTotal+%3B%0A++++rdfs%3Alabel+%3Fname%0A++++OPTIONAL+%7B%3Fcity+dbp%3ApopulationMetro+%3FpopMetro.+%7D%0A++++FILTER+(%3FpopTotal+%3E+50000+%26%26+langmatches(lang(%3Fname)%2C+%22EN%22)+)%0A++++FILTER(!bound(%3FpopMetro))%0A%7D%0AORDER+BY+desc(%3FpopTotal)&contentTypeConstruct=text%2Fturtle&contentTypeSelect=application%2Fsparql-results%2Bjson&endpoint=http%3A%2F%2Fdbpedia.org%2Fsparql&requestMethod=POST&tabTitle=Query&headers=%7B%7D&outputFormat=table\"\n",
    "display(IFrame(query_string, height = 480, width = \"90%\"))"
   ]
  },
  {
   "cell_type": "markdown",
   "metadata": {
    "slideshow": {
     "slide_type": "slide"
    }
   },
   "source": [
    "Finally, note also that it is possible to have different FILTER clauses. You do not need to and all of them into the same FILTER clause.  For example, this query, in which I specify each filter condition in its own FILTER clause, is exactly equivalent:\n",
    "\n",
    "```\n",
    "PREFIX rdf: <http://www.w3.org/1999/02/22-rdf-syntax-ns#>\n",
    "PREFIX rdfs: <http://www.w3.org/2000/01/rdf-schema#>\n",
    "PREFIX dbp: <http://dbpedia.org/ontology/>\n",
    "SELECT * WHERE {\n",
    "    ?city rdf:type <http://dbpedia.org/class/yago/CitiesInTexas> ;\n",
    "    dbp:populationTotal ?popTotal ;\n",
    "    rdfs:label ?name\n",
    "    OPTIONAL {?city dbp:populationMetro ?popMetro. }\n",
    "    FILTER (?popTotal > 50000)\n",
    "    FILTER (langmatches(lang(?name), \"EN\") )\n",
    "    FILTER(!bound(?popMetro))\n",
    "}\n",
    "ORDER BY desc(?popTotal)\n",
    "```"
   ]
  },
  {
   "cell_type": "markdown",
   "metadata": {
    "slideshow": {
     "slide_type": "slide"
    }
   },
   "source": [
    "#### UNION\n",
    "The UNION clause is a disjunction between two basic graph patterns. In other words, it is an OR.\n",
    "\n",
    "**Query 12:** This is much the same as the queries that we've been seeing, only it returns cities that are of type \"Cities in Texas\" or of type \"Cities in California\".\n",
    "\n",
    "```\n",
    "PREFIX rdf: <http://www.w3.org/1999/02/22-rdf-syntax-ns#>\n",
    "PREFIX rdfs: <http://www.w3.org/2000/01/rdf-schema#>\n",
    "PREFIX dbp: <http://dbpedia.org/ontology/>\n",
    "SELECT * WHERE {\n",
    "    {\n",
    "        ?city rdf:type <http://dbpedia.org/class/yago/CitiesInTexas> ;\n",
    "        dbp:populationTotal ?popTotal ;\n",
    "        rdfs:label ?name\n",
    "        OPTIONAL {?city dbp:populationMetro ?popMetro. }\n",
    "        FILTER (?popTotal > 50000 && langmatches(lang(?name), \"EN\"))\n",
    "    }\n",
    "    UNION\n",
    "    {\n",
    "        ?city rdf:type <http://dbpedia.org/class/yago/CitiesInCalifornia>;\n",
    "        dbp:populationTotal ?popTotal ;\n",
    "        rdfs:label ?name\n",
    "        OPTIONAL {?city dbp:populationMetro ?popMetro. }\n",
    "        FILTER (?popTotal > 50000 && langmatches(lang(?name), \"EN\"))\n",
    "    }\n",
    "}\n",
    "ORDER BY desc(?popTotal)\n",
    "```\n",
    "This is a very simple, naïve first attempt at writing this expression. As you can see, the previous query has several redundant triple patterns and can be simplified. "
   ]
  },
  {
   "cell_type": "markdown",
   "metadata": {
    "slideshow": {
     "slide_type": "slide"
    }
   },
   "source": [
    "The following query is equivalent to the previous one but simpler:\n",
    "```\n",
    "PREFIX rdf: <http://www.w3.org/1999/02/22-rdf-syntax-ns#>\n",
    "PREFIX rdfs: <http://www.w3.org/2000/01/rdf-schema#>\n",
    "PREFIX dbp: <http://dbpedia.org/ontology/>\n",
    "SELECT * WHERE {\n",
    "    ?city dbp:populationTotal ?popTotal ;\n",
    "    rdfs:label ?name\n",
    "    OPTIONAL {?city dbp:populationMetro ?popMetro. }\n",
    "    FILTER (?popTotal > 50000 && langmatches(lang(?name), \"EN\"))\n",
    "    { ?city rdf:type <http://dbpedia.org/class/yago/CitiesInTexas> . }\n",
    "    UNION\n",
    "    { ?city rdf:type <http://dbpedia.org/class/yago/CitiesInCalifornia>. }\n",
    "}\n",
    "ORDER BY desc(?popTotal)\n",
    "```\n",
    "\n",
    "Note that the repeated triple patterns (e.g. those common to both sets of results) are outside of the UNION clause."
   ]
  },
  {
   "cell_type": "code",
   "execution_count": null,
   "metadata": {
    "collapsed": false,
    "slideshow": {
     "slide_type": "slide"
    }
   },
   "outputs": [],
   "source": [
    "from IPython.display import IFrame, display\n",
    "query_string = \"http://yasgui.org/#query=PREFIX+rdf%3A+%3Chttp%3A%2F%2Fwww.w3.org%2F1999%2F02%2F22-rdf-syntax-ns%23%3E%0APREFIX+rdfs%3A+%3Chttp%3A%2F%2Fwww.w3.org%2F2000%2F01%2Frdf-schema%23%3E%0APREFIX+dbp%3A+%3Chttp%3A%2F%2Fdbpedia.org%2Fontology%2F%3E%0ASELECT+*+WHERE+%7B%0A++++%3Fcity+dbp%3ApopulationTotal+%3FpopTotal+%3B%0A++++rdfs%3Alabel+%3Fname%0A++++OPTIONAL+%7B%3Fcity+dbp%3ApopulationMetro+%3FpopMetro.+%7D%0A++++FILTER+(%3FpopTotal+%3E+50000+%26%26+langmatches(lang(%3Fname)%2C+%22EN%22))%0A++++%7B+%3Fcity+rdf%3Atype+%3Chttp%3A%2F%2Fdbpedia.org%2Fclass%2Fyago%2FCitiesInTexas%3E+.+%7D%0A++++UNION%0A++++%7B+%3Fcity+rdf%3Atype+%3Chttp%3A%2F%2Fdbpedia.org%2Fclass%2Fyago%2FCitiesInCalifornia%3E.+%7D%0A%7D%0AORDER+BY+desc(%3FpopTotal)&contentTypeConstruct=text%2Fturtle&contentTypeSelect=application%2Fsparql-results%2Bjson&endpoint=http%3A%2F%2Fdbpedia.org%2Fsparql&requestMethod=POST&tabTitle=Query&headers=%7B%7D&outputFormat=table\"\n",
    "display(IFrame(query_string, height = 480, width = \"90%\"))"
   ]
  },
  {
   "cell_type": "markdown",
   "metadata": {
    "slideshow": {
     "slide_type": "skip"
    }
   },
   "source": [
    "#### Named Graphs and the GRAPH Clause\n",
    "Up to now, we have been querying a single RDF dataset. However, as explained in RDF 101 RDF data, even within a single RDF database, is broken up into subsets called named graphs.\n",
    "\n",
    "Up until now in this tutorial, all of our queries have assumed that all the data we care about is in the same RDF graph, which is called the default graph. Depending on the RDF database implementation, the default graph might contain nothing at all, or metadata about the database as a whole, or it might server as a proxy for all data within the database.\n",
    "\n",
    "With DBpedia specifically, the default graph serves as a proxy for all data. However, it does have a number of named graphs we can use to scope the query if desired.\n",
    "\n",
    "Each named graph is identified by a URI.\n",
    "\n",
    "**Query 13:** This query returns the cities that are of type \"Cities in Texas\" and the graph in which each city resource is contained.\n",
    "\n",
    "```\n",
    "PREFIX rdf: <http://www.w3.org/1999/02/22-rdf-syntax-ns#>\n",
    "SELECT * WHERE {\n",
    "    GRAPH ?g {\n",
    "        ?city rdf:type <http://dbpedia.org/class/yago/CitiesInTexas> .\n",
    "    }\n",
    "}\n",
    "```\n",
    "\n",
    "The results show that all of the data is in the same graph, the default graph.\n",
    "\n",
    "In general, if you wanted to query a specific named graph, replace the variable ?g with the specific URI of the named graph."
   ]
  },
  {
   "cell_type": "markdown",
   "metadata": {
    "slideshow": {
     "slide_type": "skip"
    }
   },
   "source": [
    "#### What else can I do with SPARQL?\n",
    "Up to now, we have just been executing SELECT queries. However, as we mentioned in SPARQL 101 there are three more types of queries: ASK, DESCRIBE, CONSTRUCT."
   ]
  },
  {
   "cell_type": "markdown",
   "metadata": {
    "slideshow": {
     "slide_type": "skip"
    }
   },
   "source": [
    "##### ASK\n",
    "ASK queries checks if there is at least one result for a given query pattern. The result is true or false.\n",
    "\n",
    "**Query 14:** This query asks if Austin is a city in Texas.\n",
    "```\n",
    "PREFIX rdf: <http://www.w3.org/1999/02/22-rdf-syntax-ns#>\n",
    "ASK WHERE {\n",
    "    <http://dbpedia.org/resource/Austin,_Texas> rdf:type\n",
    "        <http://dbpedia.org/class/yago/CitiesInTexas> .\n",
    "}\n",
    "```"
   ]
  },
  {
   "cell_type": "markdown",
   "metadata": {
    "slideshow": {
     "slide_type": "skip"
    }
   },
   "source": [
    "Now let's make a more complicated question using ASK.\n",
    "\n",
    "**Query 15:** This query asks if there exists a city in Texas that has a total population greater than 600,000 and a metro population less than 1,800.000\n",
    "```\n",
    "PREFIX rdf: <http://www.w3.org/1999/02/22-rdf-syntax-ns#>\n",
    "PREFIX dbp: <http://dbpedia.org/ontology/>\n",
    "ASK WHERE {\n",
    "    ?city rdf:type <http://dbpedia.org/class/yago/CitiesInTexas> ;\n",
    "    dbp:populationTotal ?popTotal ;\n",
    "    dbp:populationMetro ?popMetro.\n",
    "    FILTER (?popTotal > 600000 && ?popMetro < 1800000)\n",
    "}\n",
    "```"
   ]
  },
  {
   "cell_type": "markdown",
   "metadata": {
    "slideshow": {
     "slide_type": "skip"
    }
   },
   "source": [
    "##### DESCRIBE\n",
    "DESCRIBE queries returns an RDF graph that describes a resource. The implementation of this return form is up to each query engine.\n",
    "\n",
    "**Query 16:** This query returns an RDF graph that describes Austin.\n",
    "\n",
    "`DESCRIBE <http://dbpedia.org/resource/Austin,_Texas>`\n",
    "\n",
    "Note that if you enter this query into DBpedia's SPARQL UI you will be promped to download a file. The reason for this is that the result of DESCRIBE is a graph, and in this specific case a graph that is represented in the N3 serialization format described in RDF Nuts & Bolts.\n",
    "\n",
    "As mentioned before, the behavior of DESCRIBE is implementation dependent. Virtuoso is the triple store that powers DBpedia, and its implementation of DESCRIBE is to return an RDF graph where the resource is in the subject or in the object position. Other triple stores do not necessary need to have this same behavior."
   ]
  },
  {
   "cell_type": "markdown",
   "metadata": {
    "slideshow": {
     "slide_type": "skip"
    }
   },
   "source": [
    "It is also possible to have a DESCRIBE query with triple patterns in a WHERE clause.\n",
    "\n",
    "**Query 17:** This query returns an RDF graph that describes all the cities in Texas that have a total population greater than 600,000 and a metro population less than 1,800.000.\n",
    "\n",
    "```\n",
    "PREFIX rdf: <http://www.w3.org/1999/02/22-rdf-syntax-ns#>\n",
    "PREFIX dbp: <http://dbpedia.org/ontology/>\n",
    "DESCRIBE ?city WHERE {\n",
    "    ?city rdf:type <http://dbpedia.org/class/yago/CitiesInTexas> ;\n",
    "    dbp:populationTotal ?popTotal ;\n",
    "    dbp:populationMetro ?popMetro.\n",
    "    FILTER (?popTotal > 600000 && ?popMetro < 1800000)\n",
    "}\n",
    "```"
   ]
  },
  {
   "cell_type": "markdown",
   "metadata": {
    "slideshow": {
     "slide_type": "skip"
    }
   },
   "source": [
    "##### CONSTRUCT\n",
    "A CONSTRUCT query returns an RDF graph that is created from a graph template specified in the CONSTRUCT query. More specifically, the result RDF graph is created by taking the results of a query pattern and filling in the values of variables that occur in the construct template.\n",
    "\n",
    "Using CONSTRUCT, you can transform RDF data into different graph structures, with different vocabularies. This may be useful if you have RDF data that was automatically generated and would like to transform it using well-known vocabularies, or if you are merging RDF data from multiple vocabularies. As such, CONSTRUCT is a powerful tool for consuming RDF from various sources.\n",
    "\n",
    "**Query 18:** This query constructs a new RDF graph for cities in Texas that have a metro population greater than 500,000.\n",
    "\n",
    "```\n",
    "PREFIX rdf: <http://www.w3.org/1999/02/22-rdf-syntax-ns#>\n",
    "PREFIX rdfs: <http://www.w3.org/2000/01/rdf-schema#>\n",
    "PREFIX dbp: <http://dbpedia.org/ontology/>\n",
    "CONSTRUCT {\n",
    "    ?city rdf:type <http://myvocabulary.com/LargeMetroCitiesInTexas> ;\n",
    "    <http://myvocabulary.com/cityName> ?name ;\n",
    "    <http://myvocabulary.com/totalPopulation> ?popTotal ;\n",
    "    <http://myvocabulary.com/metroPopulation> ?popMetro .\n",
    "} WHERE {\n",
    "    ?city rdf:type <http://dbpedia.org/class/yago/CitiesInTexas> ;\n",
    "    dbp:populationTotal ?popTotal ;\n",
    "    rdfs:label ?name ;\n",
    "    dbp:populationMetro ?popMetro .\n",
    "    FILTER (?popTotal > 500000 && langmatches(lang(?name), \"EN\"))\n",
    "}\n",
    "```\n",
    "Note that in the CONSTRUCT clause above we have used our own, made up vocabulary!"
   ]
  },
  {
   "cell_type": "markdown",
   "metadata": {
    "slideshow": {
     "slide_type": "skip"
    }
   },
   "source": [
    "#### SPARQL Result Syntax\n",
    "For SPARQL endpoints, SELECT and ASK queries return XML (application/sparql-results+xml) as the standard query result format for a SPARQL query. There is also a non-standard JSON syntax. To see what the raw SPARQL results look like, toggle the \"Results Format\" field in the DBpedia SPARQL UI.\n",
    "\n",
    "That said, you will rarely if ever have to parse SPARQL results yourself, as you'll typically be issuing SPARQL queries through an RDF client library that takes care of that problem for you.\n",
    "\n",
    "Both DESCRIBE and CONSTRUCT return RDF graphs directly, and not in the standard SPARQL query results format. For example, DBpedia will return results in N3. As mentioned in RDF Nuts & Bolts there are several RDF serializations that may be used to represent RDF data, and the result serialization format will be implementation dependent."
   ]
  },
  {
   "cell_type": "markdown",
   "metadata": {
    "slideshow": {
     "slide_type": "slide"
    }
   },
   "source": [
    "#### What's next: SPARQL 1.1\n",
    "\n",
    "Up to now, we have covered SPARQL 1.0, which is a read-only language and lacks many important features you may be used to from SQL, such as the ability to update data in a database.\n",
    "\n",
    "SPARQL 1.1 contains the following, much needed, features:\n",
    "```\n",
    "Aggregates: ability to group results and calculate aggregate values (e.g. count, min, max, avg, sum, …).\n",
    "Projected expressions: ability for query results to contain values derived from constants, function calls, or other expressions in the SELECT list.\n",
    "Sub-queries: allows a query to be embedded within another.\n",
    "Negation: includes two negation operators: NOT EXIST and MINUS\n",
    "Update: an update language for RDF\n",
    "```\n",
    "\n",
    "But that is not all! SPARQL 1.1 will also contain other features such as:\n",
    "\n",
    "```\n",
    "Property paths: query arbitrary length paths of a graph via a regular-expression-like syntax\n",
    "Query Federation: ability to split a single query and send parts of it to different SPARQL endpoints and then combining the results from each one\n",
    "Service Description: a vocabulary and discovery mechanism that describes the capabilities of a SPARQL endpoint.\n",
    "Entailment Regimes: defines conditions under which SPARQL queries can be used for inference under RDF, RDF Schema, OWL, or RIF entailment.\n",
    "```\n",
    "\n",
    "Many popular triple stores already implement some or all of the features in SPARQL 1.1."
   ]
  }
 ],
 "metadata": {
  "celltoolbar": "Slideshow",
  "kernelspec": {
   "display_name": "Python 2",
   "language": "python",
   "name": "python2"
  },
  "language_info": {
   "codemirror_mode": {
    "name": "ipython",
    "version": 2
   },
   "file_extension": ".py",
   "mimetype": "text/x-python",
   "name": "python",
   "nbconvert_exporter": "python",
   "pygments_lexer": "ipython2",
   "version": "2.7.12"
  }
 },
 "nbformat": 4,
 "nbformat_minor": 0
}
