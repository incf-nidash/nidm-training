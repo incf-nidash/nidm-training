{
 "cells": [
  {
   "cell_type": "code",
   "execution_count": 2,
   "metadata": {
    "collapsed": false
   },
   "outputs": [],
   "source": [
    "import os\n",
    "import csv\n",
    "\n",
    "import rdflib"
   ]
  },
  {
   "cell_type": "code",
   "execution_count": 55,
   "metadata": {
    "collapsed": false
   },
   "outputs": [],
   "source": [
    "# Create a graph and set the namespaces.\n",
    "g = rdflib.Graph()\n",
    "\n",
    "# Create a dict of all the URIs.\n",
    "iri = dict(prov=rdflib.URIRef(\"http://www.w3.org/ns/prov#\"),\n",
    "           dcat=rdflib.URIRef(\"http://www.w3.org/ns/dcat#\"),\n",
    "           dc=rdflib.URIRef(\"http://purl.org/dc/elements/1.1/\"),\n",
    "           dct=rdflib.URIRef(\"http://purl.org/dc/terms/\"),\n",
    "           dctypes=rdflib.URIRef(\"http://purl.org/dc/dcmitype/\"),\n",
    "           rdf=rdflib.URIRef(\"http://www.w3.org/1999/02/22-rdf-syntax-ns#\"),\n",
    "           rdfs=rdflib.URIRef(\"http://www.w3.org/2000/01/rdf-schema#\"),\n",
    "           xml=rdflib.URIRef(\"http://www.w3.org/XML/1998/namespace\"),\n",
    "           xsd=rdflib.URIRef(\"http://www.w3.org/2001/XMLSchema#\"),\n",
    "           foaf=rdflib.URIRef(\"http://xmlns.com/foaf/0.1/\"),\n",
    "           skos=rdflib.URIRef(\"http://www.w3.org/2004/02/skos/core#\"),\n",
    "           nidm=rdflib.URIRef(\"http://nidm.nidash.org/\"),\n",
    "           xnat=rdflib.URIRef(\"https://central.xnat.org/\"),\n",
    "           project=rdflib.URIRef(\"https://central.xnat.org/data/projects/\"))\n",
    "\n",
    "# Create a dict of Namespaces to use.\n",
    "ns = {k:rdflib.Namespace(v) for k, v in iri.iteritems()}\n",
    "\n",
    "# Bind namespaces to the graph.\n",
    "for k, v in ns.iteritems():\n",
    "    g.bind(k, v)"
   ]
  },
  {
   "cell_type": "code",
   "execution_count": 56,
   "metadata": {
    "collapsed": false
   },
   "outputs": [],
   "source": [
    "# Manually create the top level dataset descriptor for XNAT Central\n",
    "g.add([iri.get('xnat'), rdflib.RDF['type'], ns.get('dctypes')['Dataset']])\n",
    "g.add([iri.get('xnat'), ns.get('dct')['title'], rdflib.Literal('XNAT Central', lang='en')])\n",
    "g.add([iri.get('xnat'), ns.get('dct')['description'], rdflib.Literal('The XNAT Central repository.', lang='en')])\n",
    "g.add([iri.get('xnat'), ns.get('dct')['publisher'], rdflib.URIRef(\"https://central.xnat.org/\")])"
   ]
  },
  {
   "cell_type": "code",
   "execution_count": 61,
   "metadata": {
    "collapsed": false
   },
   "outputs": [
    {
     "name": "stdout",
     "output_type": "stream",
     "text": [
      "https://central.xnat.org/data/projects/CENTRAL_OASIS_LONG: 'utf8' codec can't decode byte 0x92 in position 449: invalid start byte\n"
     ]
    }
   ],
   "source": [
    "with open('xnat-central-projects.csv', 'rb') as fi:\n",
    "    for row in csv.DictReader(fi):\n",
    "        try:\n",
    "            project_iri = ns.get('project')[row.get('id')]\n",
    "            g.add([iri.get('xnat'), ns.get('dct')['hasPart'], project_iri])\n",
    "            g.add([project_iri, rdflib.RDF['type'], ns.get('dctypes')['Dataset']])\n",
    "            g.add([project_iri, ns.get('dct')['title'], rdflib.Literal(row.get('Title'), lang='en')])\n",
    "            g.add([project_iri, ns.get('dct')['description'], rdflib.Literal(row.get('Description'), lang='en')])\n",
    "            g.add([project_iri, ns.get('dct')['alternative'], rdflib.Literal(row.get('Running Title'), lang='en')])\n",
    "            g.add([project_iri, ns.get('dcat')['keyword'], rdflib.Literal(row.get('Keywords'), lang='en')])\n",
    "            g.add([project_iri, ns.get('xnat')['mrCount'], rdflib.Literal(row.get('MR Count'))])\n",
    "            g.add([project_iri, ns.get('xnat')['petCount'], rdflib.Literal(row.get('PET Count'))])\n",
    "            g.add([project_iri, ns.get('xnat')['ctCount'], rdflib.Literal(row.get('CT Count'))])\n",
    "            g.add([project_iri, ns.get('xnat')['role'], rdflib.Literal(row.get('Role'))])\n",
    "            g.add([project_iri, ns.get('dct')['rights'], rdflib.Literal(row.get('Accessibility'), lang='en')])\n",
    "        except Exception as error:\n",
    "            print(\"{}: {}\".format(project_iri, error))\n",
    "         "
   ]
  },
  {
   "cell_type": "code",
   "execution_count": 65,
   "metadata": {
    "collapsed": false
   },
   "outputs": [],
   "source": [
    "g.serialize('xnat-central.ttl', format='turtle')"
   ]
  },
  {
   "cell_type": "code",
   "execution_count": null,
   "metadata": {
    "collapsed": true
   },
   "outputs": [],
   "source": []
  }
 ],
 "metadata": {
  "kernelspec": {
   "display_name": "Python 2",
   "language": "python",
   "name": "python2"
  },
  "language_info": {
   "codemirror_mode": {
    "name": "ipython",
    "version": 2
   },
   "file_extension": ".py",
   "mimetype": "text/x-python",
   "name": "python",
   "nbconvert_exporter": "python",
   "pygments_lexer": "ipython2",
   "version": "2.7.12"
  },
  "widgets": {
   "state": {},
   "version": "1.1.2"
  }
 },
 "nbformat": 4,
 "nbformat_minor": 0
}
