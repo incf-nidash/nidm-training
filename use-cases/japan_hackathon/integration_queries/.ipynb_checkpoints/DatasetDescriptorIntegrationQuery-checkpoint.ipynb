{
 "cells": [
  {
   "cell_type": "markdown",
   "metadata": {},
   "source": [
    "# An example of integrating two RDF datasets\n",
    "- Read in the original datasets converted to RDF\n",
    "- Create a mapping between a few measures in in each file\n",
    "- Query the integrated dataset"
   ]
  },
  {
   "cell_type": "code",
   "execution_count": 1,
   "metadata": {
    "collapsed": true
   },
   "outputs": [],
   "source": [
    "import os\n",
    "import rdflib\n",
    "#import csv for reading csv files\n",
    "import csv"
   ]
  },
  {
   "cell_type": "markdown",
   "metadata": {},
   "source": [
    "#Read in Datasets Expressed in Turtle Format"
   ]
  },
  {
   "cell_type": "code",
   "execution_count": 16,
   "metadata": {
    "collapsed": false
   },
   "outputs": [],
   "source": [
    "simpledata_graph = rdflib.Graph()\n",
    "simpledata_graph_parse = simpledata_graph.parse('SimpleData.ttl', format='turtle')\n",
    "\n",
    "braintx_graph = rdflib.Graph()\n",
    "braintx_graph_parse = braintx_graph.parse('data2.ttl', format='turtle')"
   ]
  },
  {
   "cell_type": "code",
   "execution_count": 17,
   "metadata": {
    "collapsed": true
   },
   "outputs": [],
   "source": [
    "\n",
    "union_graph = simpledata_graph_parse + braintx_graph_parse"
   ]
  },
  {
   "cell_type": "code",
   "execution_count": 18,
   "metadata": {
    "collapsed": false
   },
   "outputs": [],
   "source": [
    "#step 3a: Add namespaces from each graph\n",
    "nidm = rdflib.Namespace(\"http://nidm.nidash.org/\")\n",
    "prov = rdflib.Namespace(\"http://www.w3.org/ns/prov#\")\n",
    "ncit = rdflib.Namespace(\"http://ncitt.ncit.nih.gov/\")\n",
    "dcat = rdflib.Namespace(\"http://www.w3.org/ns/dcat#\")\n",
    "dct = rdflib.Namespace(\"http://purl.org/dc/terms/\")\n",
    "dctypes = rdflib.Namespace(\"http://purl.org/dc/dcmitype/\")\n",
    "dicom = rdflib.Namespace(\"http://neurolex.org/wiki/Category:DICOM_term/\")\n",
    "ncit = rdflib.Namespace(\"http://ncitt.ncit.nih.gov/\")\n",
    "rdf = rdflib.Namespace(\"http://www.w3.org/1999/02/22-rdf-syntax-ns#\")\n",
    "rdfs = rdflib.Namespace(\"http://www.w3.org/2000/01/rdf-schema#\")\n",
    "xml = rdflib.Namespace(\"http://www.w3.org/XML/1998/namespace\")\n",
    "xnat = rdflib.Namespace(\"https://www.nitrc.org/projects/fcon_1000/\")\n",
    "xsd = rdflib.Namespace(\"http://www.w3.org/2001/XMLSchema#\")\n",
    "foaf = rdflib.Namespace(\"http://xmlns.com/foaf/0.1/\")\n",
    "metadb_catalog = rdflib.Namespace(\"http://metadb.riken.jp/db/DBcatalog/\")\n",
    "skos = rdflib.Namespace(\"http://www.w3.org/2004/02/skos/core#\")\n",
    "dc = rdflib.Namespace(\"http://purl.org/dc/elements/1.1/\")\n",
    "prov = rdflib.Namespace(\"http://www.w3.org/ns/prov#\")\n",
    "ncit = rdflib.Namespace(\"http://ncitt.ncit.nih.gov/\")\n",
    "xnat = rdflib.Namespace(\"https://www.nitrc.org/projects/fcon_1000/\")\n",
    "rdfs = rdflib.Namespace(\"http://www.w3.org/2000/01/rdf-schema#\")\n",
    "dicom = rdflib.Namespace(\"http://neurolex.org/wiki/Category:DICOM_term/\")\n",
    "dct = rdflib.Namespace(\"http://purl.org/dc/terms/\")\n",
    "dctypes = rdflib.Namespace(\"http://purl.org/dc/dcmitype/\")\n",
    "dcat = rdflib.Namespace(\"http://www.w3.org/ns/dcat#\")\n",
    "void = rdflib.Namespace(\"http://rdfs.org/ns/void#\")\n"
   ]
  },
  {
   "cell_type": "code",
   "execution_count": 19,
   "metadata": {
    "collapsed": false
   },
   "outputs": [],
   "source": [
    "union_graph.bind('void', void)\n",
    "union_graph.bind('dctypes',dctypes)"
   ]
  },
  {
   "cell_type": "markdown",
   "metadata": {},
   "source": [
    "#Adding Additional Integration Triples to Union Graph"
   ]
  },
  {
   "cell_type": "code",
   "execution_count": 20,
   "metadata": {
    "collapsed": false
   },
   "outputs": [
    {
     "name": "stdout",
     "output_type": "stream",
     "text": [
      "http://metadb.riken.jp/db/BrainTx a void:Dataset\n"
     ]
    }
   ],
   "source": [
    "qres=union_graph.query(\n",
    "    \"\"\" select *\n",
    "    where {\n",
    "        ?s a void:Dataset .\n",
    "    \n",
    "    }\"\"\"\n",
    "    )\n",
    "for row in qres:\n",
    "    print(\"%s a void:Dataset\" % row)"
   ]
  },
  {
   "cell_type": "code",
   "execution_count": 21,
   "metadata": {
    "collapsed": false
   },
   "outputs": [
    {
     "name": "stdout",
     "output_type": "stream",
     "text": [
      "http://purl.org/nidash/nidm/Investigation_22015d61-5148-11e6-b205-6c4008b8f03e a dctypes:Dataset\n"
     ]
    }
   ],
   "source": [
    "qres=union_graph.query(\n",
    "    \"\"\" select *\n",
    "    where {\n",
    "        ?s a dctypes:Dataset .\n",
    "    \n",
    "    }\"\"\"\n",
    "    )\n",
    "for row in qres:\n",
    "    print(\"%s a dctypes:Dataset\" % row)"
   ]
  },
  {
   "cell_type": "code",
   "execution_count": 22,
   "metadata": {
    "collapsed": false
   },
   "outputs": [],
   "source": [
    "#add triples to union graph stating a void:Dataset and dctypes:Dataset are same\n",
    "#for this example, metadb_catalog:RIKENorganization and dctypes:Dataset are same\n",
    "ns = {'void':'http://rdfs.org/ns/void#', 'dctypes':'http://purl.org/dc/dcmitype/'}\n",
    "query = \"\"\"\n",
    "            INSERT {?s a void:Dataset .}\n",
    "            WHERE {?s a dctypes:Dataset .}\n",
    "            ;\n",
    "            INSERT {?s a dctypes:Dataset .}\n",
    "            WHERE {?s a void:Dataset .}\n",
    "              \"\"\"\n",
    "union_graph.update(query, initNs=ns)"
   ]
  },
  {
   "cell_type": "code",
   "execution_count": 23,
   "metadata": {
    "collapsed": false
   },
   "outputs": [],
   "source": [
    "#print union_graph.serialize(format='turtle')"
   ]
  },
  {
   "cell_type": "code",
   "execution_count": 25,
   "metadata": {
    "collapsed": false
   },
   "outputs": [
    {
     "name": "stdout",
     "output_type": "stream",
     "text": [
      "Dataset Ref \t Description \n",
      "\n",
      "http://purl.org/nidash/nidm/Investigation_22015d61-5148-11e6-b205-6c4008b8f03e \t 1000 Functional Connectomes Project (FCP)\n",
      "http://metadb.riken.jp/db/BrainTx \t The Brain Transcriptome Database (BrainTx) project aims to create an integrated platform to visualize and analyze our original transcriptome data and publicly accessible transcriptome data related to the genetics that underlie the development, function, and dysfunction stages and states of the brain. BrainTx was developed from the Cerebellar Development Transcriptome Database (CDT-DB). Information about CDT-DB can be downloaded using the \"Download\" option in the menu bar.\n"
     ]
    }
   ],
   "source": [
    "#Query for URIRefs and Descriptions of datasets across graphs\n",
    "qres = union_graph.query(\n",
    "    \"\"\"SELECT DISTINCT ?s ?description\n",
    "       WHERE {\n",
    "          ?s a dctypes:Dataset ;\n",
    "              dct:description ?description .\n",
    "       }\"\"\")\n",
    "\n",
    "print (\"Dataset Ref \\t Description \\n\")\n",
    "for row in qres:\n",
    "    print(\"%s \\t %s\" % row)"
   ]
  },
  {
   "cell_type": "code",
   "execution_count": 26,
   "metadata": {
    "collapsed": true
   },
   "outputs": [],
   "source": [
    "#serialize union graph\n",
    "with open(\"SimpleData+data2.ttl\",'w') as f:\n",
    "    f.write(union_graph.serialize(format='turtle'))"
   ]
  },
  {
   "cell_type": "markdown",
   "metadata": {},
   "source": [
    "#Second example using skos relationships"
   ]
  },
  {
   "cell_type": "code",
   "execution_count": 48,
   "metadata": {
    "collapsed": true
   },
   "outputs": [],
   "source": [
    "simpledata_graph = rdflib.Graph()\n",
    "simpledata_graph_parse = simpledata_graph.parse('SimpleData.ttl', format='turtle')\n",
    "\n",
    "braintx_graph = rdflib.Graph()\n",
    "braintx_graph_parse = braintx_graph.parse('data2.ttl', format='turtle')\n",
    "\n",
    "union_graph = simpledata_graph_parse + braintx_graph_parse\n",
    "\n",
    "union_graph.bind('void', void)\n",
    "union_graph.bind('dctypes',dctypes)\n"
   ]
  },
  {
   "cell_type": "code",
   "execution_count": 49,
   "metadata": {
    "collapsed": true
   },
   "outputs": [],
   "source": [
    "#add triples to union graph stating a void:Dataset and dctypes:Dataset are same\n",
    "#for this example, metadb_catalog:RIKENorganization and dctypes:Dataset are same\n",
    "ns = {'void':'http://rdfs.org/ns/void#','skos':'http://www.w3.org/2004/02/skos/core#', 'dctypes':'http://purl.org/dc/dcmitype/', 'metadb_catalog':'http://metadb.riken.jp/db/DBcatalog/'}\n",
    "query = \"\"\"\n",
    "            INSERT {?s skos:relatedTo void:Dataset .}\n",
    "            WHERE {?s a dctypes:Dataset .}\n",
    "            ;\n",
    "            INSERT {?s skos:relatedTo dctypes:Dataset .}\n",
    "            WHERE {?s a void:Dataset .}\n",
    "            ;\n",
    "            INSERT {?s skos:relatedTo dctypes:Dataset .}\n",
    "            WHERE {?s a metadb_catalog:RIKENorganization .}\n",
    "            ;\n",
    "            INSERT {?s skos:relatedTo void:Dataset .}\n",
    "            WHERE {?s a metadb_catalog:RIKENorganization .}\n",
    "            ;\n",
    "            INSERT {?s skos:relatedTo metadb_catalog:RIKENorganization .}\n",
    "            WHERE {?s a dctypes:Dataset .}\n",
    "            ;\n",
    "            INSERT {?s skos:relatedTo metadb_catalog:RIKENorganization .}\n",
    "            WHERE {?s a void:Dataset .}\n",
    "           \"\"\"\n",
    "union_graph.update(query, initNs=ns)"
   ]
  },
  {
   "cell_type": "code",
   "execution_count": 76,
   "metadata": {
    "collapsed": false
   },
   "outputs": [
    {
     "name": "stdout",
     "output_type": "stream",
     "text": [
      "Dataset or Organizations \t Description \n",
      "\n",
      "http://metadb.riken.jp/db/resource/organisation/riken \t None\n",
      "http://metadb.riken.jp/db/resource/organisation/riken_labs_accc \t None\n",
      "http://metadb.riken.jp/db/resource/organisation/riken_labs_bsi \t Brain science is valuable not only for the advancement of science but also because it can greatly impact our society and economy. To meet these expectations, the Brain Science Institute (BSI) was established in 1997 as part of RIKEN, an independent research institution supported by the Japanese government. BSI has a mission to produce innovative research and technology leading to scientific discoveries of the brain. In addition, BSI aims to develop domestic and international brain researchers by creating an environment that will integrate various intellectual disciplines and from that convergence find solutions that will ultimately benefit society in the realms of medicine, engineering, business, and education.In striving toward this goal, BSI has become a leading international center for brain research with a reputation for discovery, innovation, training, and globalization of the scientific enterprise.\n",
      "http://metadb.riken.jp/db/resource/organisation/riken_labs_bsi \t 1997年10月に設立された当センターは、国内外から結集した優れた研究者により総合的な研究を展開し、設立以来、世界有数の脳科学研究拠点として国際的な認知を得ています。脳内の分子構造から神経回路、認知・記憶・学習の仕組み、健康と疾患等までを研究対象とし、工学や計算理論、心理学までも含めた多彩な学問分野を背景にして、学際的かつ融合的な研究を目指しています。近年では、分子や細胞といった微視的レベルを扱う神経生物学と、認知や計算論のような巨視的レベルとをつなぐものとして神経回路研究に焦点を当てています。また、脳研究の進展に必要不可欠である基盤技術でも革新的手法の採用や新技術開発を行い、広範囲にわたる神経科学の重要研究に取り組んでいます。\n",
      "http://metadb.riken.jp/db/BrainTx \t The Brain Transcriptome Database (BrainTx) project aims to create an integrated platform to visualize and analyze our original transcriptome data and publicly accessible transcriptome data related to the genetics that underlie the development, function, and dysfunction stages and states of the brain. BrainTx was developed from the Cerebellar Development Transcriptome Database (CDT-DB). Information about CDT-DB can be downloaded using the \"Download\" option in the menu bar.\n",
      "http://purl.org/nidash/nidm/Investigation_22015d61-5148-11e6-b205-6c4008b8f03e \t 1000 Functional Connectomes Project (FCP)\n"
     ]
    }
   ],
   "source": [
    "#Query for URIRefs and Descriptions of datasets across graphs\n",
    "qres = union_graph.query(\n",
    "    \"\"\"SELECT DISTINCT ?s ?description\n",
    "       WHERE {\n",
    "          {?s skos:relatedTo dctypes:Dataset .\n",
    "          OPTIONAL{ ?s dct:description ?description .}\n",
    "          OPTIONAL{ ?s dc:description ?description .}\n",
    "          OPTIONAL{ ?s metadb_catalog:centerDescription ?description .}}\n",
    "          union\n",
    "          {?s a dctypes:Dataset .\n",
    "          OPTIONAL{ ?s dct:description ?description .}\n",
    "          OPTIONAL{ ?s dc:description ?description .}}\n",
    "        \n",
    "         }\"\"\")\n",
    "\n",
    "print (\"Dataset or Organizations \\t Description \\n\")\n",
    "for row in qres:\n",
    "    print(\"%s \\t %s\" % row)"
   ]
  },
  {
   "cell_type": "code",
   "execution_count": 15,
   "metadata": {
    "collapsed": true
   },
   "outputs": [],
   "source": [
    "#serialize union graph\n",
    "with open(\"SimpleData+data2_skosExample.ttl\",'w') as f:\n",
    "    f.write(union_graph.serialize(format='turtle'))"
   ]
  }
 ],
 "metadata": {
  "kernelspec": {
   "display_name": "Python 2",
   "language": "python",
   "name": "python2"
  },
  "language_info": {
   "codemirror_mode": {
    "name": "ipython",
    "version": 2
   },
   "file_extension": ".py",
   "mimetype": "text/x-python",
   "name": "python",
   "nbconvert_exporter": "python",
   "pygments_lexer": "ipython2",
   "version": "2.7.11"
  }
 },
 "nbformat": 4,
 "nbformat_minor": 0
}
