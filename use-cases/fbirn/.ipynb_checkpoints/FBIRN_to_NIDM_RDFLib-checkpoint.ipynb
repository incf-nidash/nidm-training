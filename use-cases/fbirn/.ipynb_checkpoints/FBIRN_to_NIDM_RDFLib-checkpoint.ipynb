{
 "cells": [
  {
   "cell_type": "markdown",
   "metadata": {},
   "source": [
    "#Import Python libraries\n",
    "##rdflib - https://pypi.python.org/pypi/rdflib"
   ]
  },
  {
   "cell_type": "code",
   "execution_count": 1,
   "metadata": {
    "collapsed": false
   },
   "outputs": [],
   "source": [
    "import os\n",
    "import rdflib as rdf\n",
    "#import csv for reading csv files\n",
    "import csv"
   ]
  },
  {
   "cell_type": "markdown",
   "metadata": {},
   "source": [
    "#Create new RDF graph"
   ]
  },
  {
   "cell_type": "code",
   "execution_count": 2,
   "metadata": {
    "collapsed": false
   },
   "outputs": [],
   "source": [
    "g = rdf.Graph()"
   ]
  },
  {
   "cell_type": "markdown",
   "metadata": {},
   "source": [
    "#Add namespaces\n",
    "## Add a namespace for each one in the object model"
   ]
  },
  {
   "cell_type": "code",
   "execution_count": 3,
   "metadata": {
    "collapsed": false
   },
   "outputs": [
    {
     "data": {
      "text/plain": [
       "[('xml', rdflib.term.URIRef(u'http://www.w3.org/XML/1998/namespace')),\n",
       " ('rdf', rdflib.term.URIRef(u'http://www.w3.org/1999/02/22-rdf-syntax-ns#')),\n",
       " ('xsd', rdflib.term.URIRef(u'http://www.w3.org/2001/XMLSchema#')),\n",
       " ('rdfs', rdflib.term.URIRef(u'http://www.w3.org/2000/01/rdf-schema#'))]"
      ]
     },
     "execution_count": 3,
     "metadata": {},
     "output_type": "execute_result"
    }
   ],
   "source": [
    "nidm = rdf.Namespace(\"http://nidm.nidash.org/\")\n",
    "prov = rdf.Namespace(\"http://www.w3.org/ns/prov#\")\n",
    "ncit = rdf.Namespace(\"http://ncitt.ncit.nih.gov/\")\n",
    "nidash = rdf.Namespace(\"http://purl.org/nidash/nidm/\")\n",
    "fbirn = rdf.Namespace(\"http://www.birncommunity.org/collaborators/function-birn/\")\n",
    "list(g.namespaces())"
   ]
  },
  {
   "cell_type": "markdown",
   "metadata": {},
   "source": [
    "#Bind namespaces to graph"
   ]
  },
  {
   "cell_type": "code",
   "execution_count": 4,
   "metadata": {
    "collapsed": false
   },
   "outputs": [
    {
     "data": {
      "text/plain": [
       "[('xml', rdflib.term.URIRef(u'http://www.w3.org/XML/1998/namespace')),\n",
       " ('fbirn',\n",
       "  rdflib.term.URIRef(u'http://www.birncommunity.org/collaborators/function-birn/')),\n",
       " ('ncit', rdflib.term.URIRef(u'http://ncitt.ncit.nih.gov/')),\n",
       " ('rdfs', rdflib.term.URIRef(u'http://www.w3.org/2000/01/rdf-schema#')),\n",
       " ('prov', rdflib.term.URIRef(u'http://www.w3.org/ns/prov#')),\n",
       " ('nidash', rdflib.term.URIRef(u'http://purl.org/nidash/nidm/')),\n",
       " ('nidm', rdflib.term.URIRef(u'http://nidm.nidash.org/')),\n",
       " ('rdf', rdflib.term.URIRef(u'http://www.w3.org/1999/02/22-rdf-syntax-ns#')),\n",
       " ('xsd', rdflib.term.URIRef(u'http://www.w3.org/2001/XMLSchema#'))]"
      ]
     },
     "execution_count": 4,
     "metadata": {},
     "output_type": "execute_result"
    }
   ],
   "source": [
    "g.bind('nidm', nidm)\n",
    "g.bind('prov', prov)\n",
    "g.bind('ncit', ncit)\n",
    "g.bind('nidash', nidash)\n",
    "g.bind('fbirn', fbirn)\n",
    "list(g.namespaces())"
   ]
  },
  {
   "cell_type": "markdown",
   "metadata": {},
   "source": [
    "#Create function to create nodes and links in RDF graph"
   ]
  },
  {
   "cell_type": "code",
   "execution_count": 5,
   "metadata": {
    "collapsed": true
   },
   "outputs": [],
   "source": [
    "def nidm_add_nodes(graph,line):\n",
    "    #Create new node for Activity\n",
    "    g.add((nidash[\"activity_\"+line[\"subjectID\"]], rdf.RDF.type, prov[\"Activity\"]))\n",
    "    g.add((nidash[\"activity_\"+line[\"subjectID\"]], prov[\"label\"], rdf.Literal(\"Assessment data collection\")))\n",
    "    #Add new node for Agent\n",
    "    g.add((nidash[\"agent_\"+line[\"subjectID\"]], rdf.RDF.type, prov[\"Agent\"]))\n",
    "    g.add((nidash[\"agent_\"+line[\"subjectID\"]], prov[\"type\"], prov[\"Person\"]))\n",
    "    g.add((nidash[\"agent_\"+line[\"subjectID\"]], ncit[\"subjectID\"], rdf.Literal(line[\"subjectID\"])))\n",
    "    g.add((nidash[\"agent_\"+line[\"subjectID\"]], ncit[\"species\"], rdf.Literal(\"Homo sapien\")))\n",
    "    #Create collection for FBIRN NAART variables\n",
    "    g.add((rdf.Literal(\"collection_fbirn:NAART_\"+line[\"subjectID\"]), rdf.RDF.type, prov[\"collection\"]))\n",
    "    g.add((rdf.Literal(\"collection_fbirn:NAART_\"+line[\"subjectID\"]), prov[\"label\"], rdf.Literal(\"fbirn:NAART\")))\n",
    "    #Create an entity for the NAART variables\n",
    "    g.add((nidash[\"entity_\"+line[\"subjectID\"]], rdf.RDF.type, prov[\"Entity\"]))\n",
    "    g.add((nidash[\"entity_\"+line[\"subjectID\"]], fbirn[\"FSIQ\"], rdf.Literal(line[\"FSIQ\"])))\n",
    "    g.add((nidash[\"entity_\"+line[\"subjectID\"]], fbirn[\"PIQ\"], rdf.Literal(line[\"PIQ\"])))\n",
    "    g.add((nidash[\"entity_\"+line[\"subjectID\"]], fbirn[\"VIQ\"], rdf.Literal(line[\"VIQ\"])))\n",
    "    #Connect NAART variable entity to NAART collection\n",
    "    g.add((rdf.Literal(\"collection_fbirn:NAART_\"+line[\"subjectID\"]), prov[\"hadMember\"], rdf.Literal(\"entity_\"+line[\"subjectID\"])))\n",
    "    #Create collection for FBIRN demographics assessment and entity variable and connection\n",
    "    g.add((rdf.Literal(\"collection_fbirn:Demographics_\"+line[\"subjectID\"]), rdf.RDF.type, prov[\"collection\"]))\n",
    "    g.add((rdf.Literal(\"collection_fbirn:Demographics_\"+line[\"subjectID\"]), prov[\"label\"], rdf.Literal(\"fbirn:Demographics\")))\n",
    "    g.add((nidash[\"entity_\"+line[\"subjectID\"]], rdf.RDF.type, prov[\"Entity\"]))\n",
    "    g.add((nidash[\"entity_\"+line[\"subjectID\"]], ncit[\"Age\"], rdf.Literal(line[\"Age\"])))\n",
    "    g.add((nidash[\"entity_\"+line[\"subjectID\"]], ncit[\"Handedness\"], rdf.Literal(line[\"Handedness\"])))\n",
    "    g.add((rdf.Literal(\"collection_fbirn:Demographics_\"+line[\"subjectID\"]), prov[\"hadMember\"], rdf.Literal(\"entity_\"+line[\"subjectID\"])))\n",
    "    #Create connections between activity, agent, and collections\n",
    "    g.add((nidash[\"activity_\"+line[\"subjectID\"]], prov[\"wasAssociatedWith\"], rdf.Literal(\"collection_fbirn:NAART_\"+line[\"subjectID\"])))\n",
    "    g.add((nidash[\"activity_\"+line[\"subjectID\"]], prov[\"wasAssociatedWith\"], rdf.Literal(\"collection_fbirn:Demographics_\"+line[\"subjectID\"])))\n",
    "    g.add((nidash[\"agent_\"+line[\"subjectID\"]], prov[\"wasAttributedTo\"], rdf.Literal(\"collection_fbirn:NAART_\"+line[\"subjectID\"])))\n",
    "    g.add((nidash[\"agent_\"+line[\"subjectID\"]], prov[\"wasAttributedTo\"], rdf.Literal(\"collection_fbirn:Demographics_\"+line[\"subjectID\"])))"
   ]
  },
  {
   "cell_type": "markdown",
   "metadata": {},
   "source": [
    "#Read in CSV file and convert to RDF graph"
   ]
  },
  {
   "cell_type": "code",
   "execution_count": 6,
   "metadata": {
    "collapsed": false
   },
   "outputs": [],
   "source": [
    "input_file = csv.DictReader(open(\"fbirn_data.csv\"))\n",
    "for line in input_file:\n",
    "    nidm_add_nodes(g,line)  "
   ]
  },
  {
   "cell_type": "code",
   "execution_count": 7,
   "metadata": {
    "collapsed": false
   },
   "outputs": [
    {
     "name": "stdout",
     "output_type": "stream",
     "text": [
      "@prefix fbirn: <http://www.birncommunity.org/collaborators/function-birn/> .\n",
      "@prefix ncit: <http://ncitt.ncit.nih.gov/> .\n",
      "@prefix nidash: <http://purl.org/nidash/nidm/> .\n",
      "@prefix nidm: <http://nidm.nidash.org/> .\n",
      "@prefix prov: <http://www.w3.org/ns/prov#> .\n",
      "@prefix rdf: <http://www.w3.org/1999/02/22-rdf-syntax-ns#> .\n",
      "@prefix rdfs: <http://www.w3.org/2000/01/rdf-schema#> .\n",
      "@prefix xml: <http://www.w3.org/XML/1998/namespace> .\n",
      "@prefix xsd: <http://www.w3.org/2001/XMLSchema#> .\n",
      "\n",
      "nidash:activity_301882920 a prov:Activity ;\n",
      "    prov:label \"Assessment data collection\" ;\n",
      "    prov:wasAssociatedWith \"collection_fbirn:Demographics_301882920\",\n",
      "        \"collection_fbirn:NAART_301882920\" .\n",
      "\n",
      "nidash:activity_303269784 a prov:Activity ;\n",
      "    prov:label \"Assessment data collection\" ;\n",
      "    prov:wasAssociatedWith \"collection_fbirn:Demographics_303269784\",\n",
      "        \"collection_fbirn:NAART_303269784\" .\n",
      "\n",
      "nidash:activity_303851049 a prov:Activity ;\n",
      "    prov:label \"Assessment data collection\" ;\n",
      "    prov:wasAssociatedWith \"collection_fbirn:Demographics_303851049\",\n",
      "        \"collection_fbirn:NAART_303851049\" .\n",
      "\n",
      "nidash:activity_304253859 a prov:Activity ;\n",
      "    prov:label \"Assessment data collection\" ;\n",
      "    prov:wasAssociatedWith \"collection_fbirn:Demographics_304253859\",\n",
      "        \"collection_fbirn:NAART_304253859\" .\n",
      "\n",
      "nidash:activity_305738011 a prov:Activity ;\n",
      "    prov:label \"Assessment data collection\" ;\n",
      "    prov:wasAssociatedWith \"collection_fbirn:Demographics_305738011\",\n",
      "        \"collection_fbirn:NAART_305738011\" .\n",
      "\n",
      "nidash:agent_301882920 a prov:Agent ;\n",
      "    ncit:species \"Homo sapien\" ;\n",
      "    ncit:subjectID \"301882920\" ;\n",
      "    prov:type prov:Person ;\n",
      "    prov:wasAttributedTo \"collection_fbirn:Demographics_301882920\",\n",
      "        \"collection_fbirn:NAART_301882920\" .\n",
      "\n",
      "nidash:agent_303269784 a prov:Agent ;\n",
      "    ncit:species \"Homo sapien\" ;\n",
      "    ncit:subjectID \"303269784\" ;\n",
      "    prov:type prov:Person ;\n",
      "    prov:wasAttributedTo \"collection_fbirn:Demographics_303269784\",\n",
      "        \"collection_fbirn:NAART_303269784\" .\n",
      "\n",
      "nidash:agent_303851049 a prov:Agent ;\n",
      "    ncit:species \"Homo sapien\" ;\n",
      "    ncit:subjectID \"303851049\" ;\n",
      "    prov:type prov:Person ;\n",
      "    prov:wasAttributedTo \"collection_fbirn:Demographics_303851049\",\n",
      "        \"collection_fbirn:NAART_303851049\" .\n",
      "\n",
      "nidash:agent_304253859 a prov:Agent ;\n",
      "    ncit:species \"Homo sapien\" ;\n",
      "    ncit:subjectID \"304253859\" ;\n",
      "    prov:type prov:Person ;\n",
      "    prov:wasAttributedTo \"collection_fbirn:Demographics_304253859\",\n",
      "        \"collection_fbirn:NAART_304253859\" .\n",
      "\n",
      "nidash:agent_305738011 a prov:Agent ;\n",
      "    ncit:species \"Homo sapien\" ;\n",
      "    ncit:subjectID \"305738011\" ;\n",
      "    prov:type prov:Person ;\n",
      "    prov:wasAttributedTo \"collection_fbirn:Demographics_305738011\",\n",
      "        \"collection_fbirn:NAART_305738011\" .\n",
      "\n",
      "nidash:entity_301882920 a prov:Entity ;\n",
      "    ncit:Age \"33\" ;\n",
      "    ncit:Handedness \"R\" ;\n",
      "    fbirn:FSIQ \"118.44\" ;\n",
      "    fbirn:PIQ \"114.36\" ;\n",
      "    fbirn:VIQ \"118.02\" .\n",
      "\n",
      "nidash:entity_303269784 a prov:Entity ;\n",
      "    ncit:Age \"24\" ;\n",
      "    ncit:Handedness \"L\" ;\n",
      "    fbirn:FSIQ \"123.12\" ;\n",
      "    fbirn:PIQ \"116.88\" ;\n",
      "    fbirn:VIQ \"123.36\" .\n",
      "\n",
      "nidash:entity_303851049 a prov:Entity ;\n",
      "    ncit:Age \"30\" ;\n",
      "    ncit:Handedness \"R\" ;\n",
      "    fbirn:FSIQ \"117.66\" ;\n",
      "    fbirn:PIQ \"113.94\" ;\n",
      "    fbirn:VIQ \"117.13\" .\n",
      "\n",
      "nidash:entity_304253859 a prov:Entity ;\n",
      "    ncit:Age \"24\" ;\n",
      "    ncit:Handedness \"R\" ;\n",
      "    fbirn:FSIQ \"112.2\" ;\n",
      "    fbirn:PIQ \"111\" ;\n",
      "    fbirn:VIQ \"110.9\" .\n",
      "\n",
      "nidash:entity_305738011 a prov:Entity ;\n",
      "    ncit:Age \"31\" ;\n",
      "    ncit:Handedness \"R\" ;\n",
      "    fbirn:FSIQ \"116.1\" ;\n",
      "    fbirn:PIQ \"113.1\" ;\n",
      "    fbirn:VIQ \"115.35\" .\n",
      "\n",
      "\"collection_fbirn:Demographics_301882920\" a prov:collection ;\n",
      "    prov:hadMember \"entity_301882920\" ;\n",
      "    prov:label \"fbirn:Demographics\" .\n",
      "\n",
      "\"collection_fbirn:Demographics_303269784\" a prov:collection ;\n",
      "    prov:hadMember \"entity_303269784\" ;\n",
      "    prov:label \"fbirn:Demographics\" .\n",
      "\n",
      "\"collection_fbirn:Demographics_303851049\" a prov:collection ;\n",
      "    prov:hadMember \"entity_303851049\" ;\n",
      "    prov:label \"fbirn:Demographics\" .\n",
      "\n",
      "\"collection_fbirn:Demographics_304253859\" a prov:collection ;\n",
      "    prov:hadMember \"entity_304253859\" ;\n",
      "    prov:label \"fbirn:Demographics\" .\n",
      "\n",
      "\"collection_fbirn:Demographics_305738011\" a prov:collection ;\n",
      "    prov:hadMember \"entity_305738011\" ;\n",
      "    prov:label \"fbirn:Demographics\" .\n",
      "\n",
      "\"collection_fbirn:NAART_301882920\" a prov:collection ;\n",
      "    prov:hadMember \"entity_301882920\" ;\n",
      "    prov:label \"fbirn:NAART\" .\n",
      "\n",
      "\"collection_fbirn:NAART_303269784\" a prov:collection ;\n",
      "    prov:hadMember \"entity_303269784\" ;\n",
      "    prov:label \"fbirn:NAART\" .\n",
      "\n",
      "\"collection_fbirn:NAART_303851049\" a prov:collection ;\n",
      "    prov:hadMember \"entity_303851049\" ;\n",
      "    prov:label \"fbirn:NAART\" .\n",
      "\n",
      "\"collection_fbirn:NAART_304253859\" a prov:collection ;\n",
      "    prov:hadMember \"entity_304253859\" ;\n",
      "    prov:label \"fbirn:NAART\" .\n",
      "\n",
      "\"collection_fbirn:NAART_305738011\" a prov:collection ;\n",
      "    prov:hadMember \"entity_305738011\" ;\n",
      "    prov:label \"fbirn:NAART\" .\n",
      "\n",
      "\n"
     ]
    }
   ],
   "source": [
    "print g.serialize(format='turtle')"
   ]
  },
  {
   "cell_type": "markdown",
   "metadata": {},
   "source": [
    "#Save RDF Turtle file to disk"
   ]
  },
  {
   "cell_type": "code",
   "execution_count": 8,
   "metadata": {
    "collapsed": false
   },
   "outputs": [],
   "source": [
    "with open(\"FBIRN_to_NIDM_RDFLib.ttl\",'w') as f:\n",
    "    f.write(g.serialize(format='turtle'))"
   ]
  },
  {
   "cell_type": "markdown",
   "metadata": {},
   "source": [
    "#Create RDF graph from DOT file"
   ]
  },
  {
   "cell_type": "code",
   "execution_count": 9,
   "metadata": {
    "collapsed": true
   },
   "outputs": [],
   "source": [
    "from rdflib.tools import rdf2dot\n",
    "with open(\"FBIRN_to_NIDM_RDFLib.dot\",'w') as f:\n",
    "    s = rdf2dot.rdf2dot(g, f)\n"
   ]
  },
  {
   "cell_type": "code",
   "execution_count": 10,
   "metadata": {
    "collapsed": false
   },
   "outputs": [
    {
     "data": {
      "text/plain": [
       "True"
      ]
     },
     "execution_count": 10,
     "metadata": {},
     "output_type": "execute_result"
    }
   ],
   "source": [
    "import pydot\n",
    "g = pydot.graph_from_dot_file('FBIRN_to_NIDM_RDFLib.dot')\n",
    "g.write_png('FBIRN_to_NIDM_RDFLib.png')"
   ]
  }
 ],
 "metadata": {
  "kernelspec": {
   "display_name": "Python 2",
   "language": "python",
   "name": "python2"
  },
  "language_info": {
   "codemirror_mode": {
    "name": "ipython",
    "version": 2
   },
   "file_extension": ".py",
   "mimetype": "text/x-python",
   "name": "python",
   "nbconvert_exporter": "python",
   "pygments_lexer": "ipython2",
   "version": "2.7.11"
  }
 },
 "nbformat": 4,
 "nbformat_minor": 0
}
