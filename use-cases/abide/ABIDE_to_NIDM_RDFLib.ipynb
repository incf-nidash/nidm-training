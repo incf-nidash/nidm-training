{
 "cells": [
  {
   "cell_type": "markdown",
   "metadata": {},
   "source": [
    "#Import Python library\n",
    "##rdflib - https://pypi.python.org/pypi/rdflib"
   ]
  },
  {
   "cell_type": "code",
   "execution_count": 1,
   "metadata": {
    "collapsed": false
   },
   "outputs": [],
   "source": [
    "import os\n",
    "import rdflib as rdf\n",
    "#import csv for reading csv files\n",
    "import csv"
   ]
  },
  {
   "cell_type": "markdown",
   "metadata": {},
   "source": [
    "#Create new RDF graph"
   ]
  },
  {
   "cell_type": "code",
   "execution_count": 2,
   "metadata": {
    "collapsed": false
   },
   "outputs": [],
   "source": [
    "g = rdf.Graph()"
   ]
  },
  {
   "cell_type": "markdown",
   "metadata": {},
   "source": [
    "#Add namespaces\n",
    "## Add a namespace for each one in the object model"
   ]
  },
  {
   "cell_type": "code",
   "execution_count": 3,
   "metadata": {
    "collapsed": false
   },
   "outputs": [
    {
     "data": {
      "text/plain": [
       "[('xml', rdflib.term.URIRef(u'http://www.w3.org/XML/1998/namespace')),\n",
       " ('rdf', rdflib.term.URIRef(u'http://www.w3.org/1999/02/22-rdf-syntax-ns#')),\n",
       " ('xsd', rdflib.term.URIRef(u'http://www.w3.org/2001/XMLSchema#')),\n",
       " ('rdfs', rdflib.term.URIRef(u'http://www.w3.org/2000/01/rdf-schema#'))]"
      ]
     },
     "execution_count": 3,
     "metadata": {},
     "output_type": "execute_result"
    }
   ],
   "source": [
    "nidm = rdf.Namespace(\"http://nidm.nidash.org/\")\n",
    "prov = rdf.Namespace(\"http://www.w3.org/ns/prov#\")\n",
    "ncit = rdf.Namespace(\"http://ncitt.ncit.nih.gov/\")\n",
    "nidash = rdf.Namespace(\"http://purl.org/nidash/nidm/\")\n",
    "abide = rdf.Namespace(\"http://fcon_1000.projects.nitrc.org/indi/abide/\")\n",
    "list(g.namespaces())"
   ]
  },
  {
   "cell_type": "markdown",
   "metadata": {},
   "source": [
    "#Bind namespaces to graph"
   ]
  },
  {
   "cell_type": "code",
   "execution_count": 4,
   "metadata": {
    "collapsed": false
   },
   "outputs": [
    {
     "data": {
      "text/plain": [
       "[('xml', rdflib.term.URIRef(u'http://www.w3.org/XML/1998/namespace')),\n",
       " ('ncit', rdflib.term.URIRef(u'http://ncitt.ncit.nih.gov/')),\n",
       " ('rdfs', rdflib.term.URIRef(u'http://www.w3.org/2000/01/rdf-schema#')),\n",
       " ('prov', rdflib.term.URIRef(u'http://www.w3.org/ns/prov#')),\n",
       " ('nidash', rdflib.term.URIRef(u'http://purl.org/nidash/nidm/')),\n",
       " ('nidm', rdflib.term.URIRef(u'http://nidm.nidash.org/')),\n",
       " ('rdf', rdflib.term.URIRef(u'http://www.w3.org/1999/02/22-rdf-syntax-ns#')),\n",
       " ('abide',\n",
       "  rdflib.term.URIRef(u'http://fcon_1000.projects.nitrc.org/indi/abide/')),\n",
       " ('xsd', rdflib.term.URIRef(u'http://www.w3.org/2001/XMLSchema#'))]"
      ]
     },
     "execution_count": 4,
     "metadata": {},
     "output_type": "execute_result"
    }
   ],
   "source": [
    "g.bind('nidm', nidm)\n",
    "g.bind('prov', prov)\n",
    "g.bind('ncit', ncit)\n",
    "g.bind('nidash', nidash)\n",
    "g.bind('abide', abide)\n",
    "list(g.namespaces())"
   ]
  },
  {
   "cell_type": "markdown",
   "metadata": {},
   "source": [
    "#Create function to create nodes and links in RDF graph"
   ]
  },
  {
   "cell_type": "code",
   "execution_count": 5,
   "metadata": {
    "collapsed": true
   },
   "outputs": [],
   "source": [
    "def nidm_add_nodes(graph,line):\n",
    "    #Create new node for Activity\n",
    "    g.add((nidash[\"activity_\"+line[\"SubjectID\"]], rdf.RDF.type, prov[\"Activity\"]))\n",
    "    g.add((nidash[\"activity_\"+line[\"SubjectID\"]], prov[\"label\"], rdf.Literal(\"Assessment data collection\")))\n",
    "    #Add new node for Agent\n",
    "    g.add((nidash[\"agent_\"+line[\"SubjectID\"]], rdf.RDF.type, prov[\"Agent\"]))\n",
    "    g.add((nidash[\"agent_\"+line[\"SubjectID\"]], prov[\"type\"], prov[\"Person\"]))\n",
    "    g.add((nidash[\"agent_\"+line[\"SubjectID\"]], ncit[\"subjectID\"], rdf.Literal(line[\"SubjectID\"])))\n",
    "    g.add((nidash[\"agent_\"+line[\"SubjectID\"]], ncit[\"species\"], rdf.Literal(\"Homo sapien\")))\n",
    "    #Create collection for ABIDE WASI variables\n",
    "    g.add((rdf.Literal(\"collection_abide:WASI_\"+line[\"SubjectID\"]), rdf.RDF.type, prov[\"collection\"]))\n",
    "    g.add((rdf.Literal(\"collection_abide:WASI_\"+line[\"SubjectID\"]), prov[\"label\"], rdf.Literal(\"abide:WASI\")))\n",
    "    #Create an entity for the WASI variables\n",
    "    g.add((nidash[\"entity_\"+line[\"SubjectID\"]], rdf.RDF.type, prov[\"Entity\"]))\n",
    "    g.add((nidash[\"entity_\"+line[\"SubjectID\"]], abide[\"ABIDE_FIQ\"], rdf.Literal(line[\"ABIDE_FIQ\"])))\n",
    "    g.add((nidash[\"entity_\"+line[\"SubjectID\"]], abide[\"ABIDE_PIQ\"], rdf.Literal(line[\"ABIDE_PIQ\"])))\n",
    "    g.add((nidash[\"entity_\"+line[\"SubjectID\"]], abide[\"ABIDE_VIQ\"], rdf.Literal(line[\"ABIDE_VIQ\"])))\n",
    "    #Connect WASI variable entity to WASI collection\n",
    "    g.add((rdf.Literal(\"collection_abide:WASI_\"+line[\"SubjectID\"]), prov[\"hadMember\"], rdf.Literal(\"entity_\"+line[\"SubjectID\"])))\n",
    "    #Create collection for ABIDE demographics assessment and entity variable and connection\n",
    "    g.add((rdf.Literal(\"collection_abide:Demographics_\"+line[\"SubjectID\"]), rdf.RDF.type, prov[\"collection\"]))\n",
    "    g.add((rdf.Literal(\"collection_abide:Demographics_\"+line[\"SubjectID\"]), prov[\"label\"], rdf.Literal(\"abide:Demographics\")))\n",
    "    g.add((nidash[\"entity_\"+line[\"SubjectID\"]], rdf.RDF.type, prov[\"Entity\"]))\n",
    "    g.add((nidash[\"entity_\"+line[\"SubjectID\"]], ncit[\"Age\"], rdf.Literal(line[\"ABIDE_AGE_AT_SCAN\"])))\n",
    "    g.add((nidash[\"entity_\"+line[\"SubjectID\"]], ncit[\"Handedness\"], rdf.Literal(line[\"ABIDE_HANDEDNESS_CATEGORY\"])))\n",
    "    g.add((rdf.Literal(\"collection_abide:Demographics_\"+line[\"SubjectID\"]), prov[\"hadMember\"], rdf.Literal(\"entity_\"+line[\"SubjectID\"])))\n",
    "    #Create connections between activity, agent, and collections\n",
    "    g.add((nidash[\"activity_\"+line[\"SubjectID\"]], prov[\"wasAssociatedWith\"], rdf.Literal(\"collection_abide:WASI_\"+line[\"SubjectID\"])))\n",
    "    g.add((nidash[\"activity_\"+line[\"SubjectID\"]], prov[\"wasAssociatedWith\"], rdf.Literal(\"collection_abide:Demographics_\"+line[\"SubjectID\"])))\n",
    "    g.add((nidash[\"agent_\"+line[\"SubjectID\"]], prov[\"wasAttributedTo\"], rdf.Literal(\"collection_abide:WASI_\"+line[\"SubjectID\"])))\n",
    "    g.add((nidash[\"agent_\"+line[\"SubjectID\"]], prov[\"wasAttributedTo\"], rdf.Literal(\"collection_abide:Demographics_\"+line[\"SubjectID\"])))"
   ]
  },
  {
   "cell_type": "markdown",
   "metadata": {},
   "source": [
    "#Read in CSV file and convert to RDF graph"
   ]
  },
  {
   "cell_type": "code",
   "execution_count": 6,
   "metadata": {
    "collapsed": true
   },
   "outputs": [],
   "source": [
    "input_file = csv.DictReader(open(\"abide_data.csv\"))\n",
    "for line in input_file:\n",
    "    nidm_add_nodes(g,line)  "
   ]
  },
  {
   "cell_type": "code",
   "execution_count": 7,
   "metadata": {
    "collapsed": false
   },
   "outputs": [
    {
     "name": "stdout",
     "output_type": "stream",
     "text": [
      "@prefix abide: <http://fcon_1000.projects.nitrc.org/indi/abide/> .\n",
      "@prefix ncit: <http://ncitt.ncit.nih.gov/> .\n",
      "@prefix nidash: <http://purl.org/nidash/nidm/> .\n",
      "@prefix nidm: <http://nidm.nidash.org/> .\n",
      "@prefix prov: <http://www.w3.org/ns/prov#> .\n",
      "@prefix rdf: <http://www.w3.org/1999/02/22-rdf-syntax-ns#> .\n",
      "@prefix rdfs: <http://www.w3.org/2000/01/rdf-schema#> .\n",
      "@prefix xml: <http://www.w3.org/XML/1998/namespace> .\n",
      "@prefix xsd: <http://www.w3.org/2001/XMLSchema#> .\n",
      "\n",
      "nidash:activity_CMU_50643 a prov:Activity ;\n",
      "    prov:label \"Assessment data collection\" ;\n",
      "    prov:wasAssociatedWith \"collection_abide:Demographics_CMU_50643\",\n",
      "        \"collection_abide:WASI_CMU_50643\" .\n",
      "\n",
      "nidash:activity_CMU_50644 a prov:Activity ;\n",
      "    prov:label \"Assessment data collection\" ;\n",
      "    prov:wasAssociatedWith \"collection_abide:Demographics_CMU_50644\",\n",
      "        \"collection_abide:WASI_CMU_50644\" .\n",
      "\n",
      "nidash:activity_CMU_50645 a prov:Activity ;\n",
      "    prov:label \"Assessment data collection\" ;\n",
      "    prov:wasAssociatedWith \"collection_abide:Demographics_CMU_50645\",\n",
      "        \"collection_abide:WASI_CMU_50645\" .\n",
      "\n",
      "nidash:activity_CMU_50646 a prov:Activity ;\n",
      "    prov:label \"Assessment data collection\" ;\n",
      "    prov:wasAssociatedWith \"collection_abide:Demographics_CMU_50646\",\n",
      "        \"collection_abide:WASI_CMU_50646\" .\n",
      "\n",
      "nidash:activity_CMU_50647 a prov:Activity ;\n",
      "    prov:label \"Assessment data collection\" ;\n",
      "    prov:wasAssociatedWith \"collection_abide:Demographics_CMU_50647\",\n",
      "        \"collection_abide:WASI_CMU_50647\" .\n",
      "\n",
      "nidash:agent_CMU_50643 a prov:Agent ;\n",
      "    ncit:species \"Homo sapien\" ;\n",
      "    ncit:subjectID \"CMU_50643\" ;\n",
      "    prov:type prov:Person ;\n",
      "    prov:wasAttributedTo \"collection_abide:Demographics_CMU_50643\",\n",
      "        \"collection_abide:WASI_CMU_50643\" .\n",
      "\n",
      "nidash:agent_CMU_50644 a prov:Agent ;\n",
      "    ncit:species \"Homo sapien\" ;\n",
      "    ncit:subjectID \"CMU_50644\" ;\n",
      "    prov:type prov:Person ;\n",
      "    prov:wasAttributedTo \"collection_abide:Demographics_CMU_50644\",\n",
      "        \"collection_abide:WASI_CMU_50644\" .\n",
      "\n",
      "nidash:agent_CMU_50645 a prov:Agent ;\n",
      "    ncit:species \"Homo sapien\" ;\n",
      "    ncit:subjectID \"CMU_50645\" ;\n",
      "    prov:type prov:Person ;\n",
      "    prov:wasAttributedTo \"collection_abide:Demographics_CMU_50645\",\n",
      "        \"collection_abide:WASI_CMU_50645\" .\n",
      "\n",
      "nidash:agent_CMU_50646 a prov:Agent ;\n",
      "    ncit:species \"Homo sapien\" ;\n",
      "    ncit:subjectID \"CMU_50646\" ;\n",
      "    prov:type prov:Person ;\n",
      "    prov:wasAttributedTo \"collection_abide:Demographics_CMU_50646\",\n",
      "        \"collection_abide:WASI_CMU_50646\" .\n",
      "\n",
      "nidash:agent_CMU_50647 a prov:Agent ;\n",
      "    ncit:species \"Homo sapien\" ;\n",
      "    ncit:subjectID \"CMU_50647\" ;\n",
      "    prov:type prov:Person ;\n",
      "    prov:wasAttributedTo \"collection_abide:Demographics_CMU_50647\",\n",
      "        \"collection_abide:WASI_CMU_50647\" .\n",
      "\n",
      "nidash:entity_CMU_50643 a prov:Entity ;\n",
      "    abide:ABIDE_FIQ \"123\" ;\n",
      "    abide:ABIDE_PIQ \"128\" ;\n",
      "    abide:ABIDE_VIQ \"112\" ;\n",
      "    ncit:Age \"21\" ;\n",
      "    ncit:Handedness \"R\" .\n",
      "\n",
      "nidash:entity_CMU_50644 a prov:Entity ;\n",
      "    abide:ABIDE_FIQ \"107\" ;\n",
      "    abide:ABIDE_PIQ \"102\" ;\n",
      "    abide:ABIDE_VIQ \"110\" ;\n",
      "    ncit:Age \"19\" ;\n",
      "    ncit:Handedness \"R\" .\n",
      "\n",
      "nidash:entity_CMU_50645 a prov:Entity ;\n",
      "    abide:ABIDE_FIQ \"124\" ;\n",
      "    abide:ABIDE_PIQ \"115\" ;\n",
      "    abide:ABIDE_VIQ \"128\" ;\n",
      "    ncit:Age \"20\" ;\n",
      "    ncit:Handedness \"R\" .\n",
      "\n",
      "nidash:entity_CMU_50646 a prov:Entity ;\n",
      "    abide:ABIDE_FIQ \"108\" ;\n",
      "    abide:ABIDE_PIQ \"115\" ;\n",
      "    abide:ABIDE_VIQ \"100\" ;\n",
      "    ncit:Age \"21\" ;\n",
      "    ncit:Handedness \"R\" .\n",
      "\n",
      "nidash:entity_CMU_50647 a prov:Entity ;\n",
      "    abide:ABIDE_FIQ \"104\" ;\n",
      "    abide:ABIDE_PIQ \"109\" ;\n",
      "    abide:ABIDE_VIQ \"97\" ;\n",
      "    ncit:Age \"27\" ;\n",
      "    ncit:Handedness \"R\" .\n",
      "\n",
      "\"collection_abide:Demographics_CMU_50643\" a prov:collection ;\n",
      "    prov:hadMember \"entity_CMU_50643\" ;\n",
      "    prov:label \"abide:Demographics\" .\n",
      "\n",
      "\"collection_abide:Demographics_CMU_50644\" a prov:collection ;\n",
      "    prov:hadMember \"entity_CMU_50644\" ;\n",
      "    prov:label \"abide:Demographics\" .\n",
      "\n",
      "\"collection_abide:Demographics_CMU_50645\" a prov:collection ;\n",
      "    prov:hadMember \"entity_CMU_50645\" ;\n",
      "    prov:label \"abide:Demographics\" .\n",
      "\n",
      "\"collection_abide:Demographics_CMU_50646\" a prov:collection ;\n",
      "    prov:hadMember \"entity_CMU_50646\" ;\n",
      "    prov:label \"abide:Demographics\" .\n",
      "\n",
      "\"collection_abide:Demographics_CMU_50647\" a prov:collection ;\n",
      "    prov:hadMember \"entity_CMU_50647\" ;\n",
      "    prov:label \"abide:Demographics\" .\n",
      "\n",
      "\"collection_abide:WASI_CMU_50643\" a prov:collection ;\n",
      "    prov:hadMember \"entity_CMU_50643\" ;\n",
      "    prov:label \"abide:WASI\" .\n",
      "\n",
      "\"collection_abide:WASI_CMU_50644\" a prov:collection ;\n",
      "    prov:hadMember \"entity_CMU_50644\" ;\n",
      "    prov:label \"abide:WASI\" .\n",
      "\n",
      "\"collection_abide:WASI_CMU_50645\" a prov:collection ;\n",
      "    prov:hadMember \"entity_CMU_50645\" ;\n",
      "    prov:label \"abide:WASI\" .\n",
      "\n",
      "\"collection_abide:WASI_CMU_50646\" a prov:collection ;\n",
      "    prov:hadMember \"entity_CMU_50646\" ;\n",
      "    prov:label \"abide:WASI\" .\n",
      "\n",
      "\"collection_abide:WASI_CMU_50647\" a prov:collection ;\n",
      "    prov:hadMember \"entity_CMU_50647\" ;\n",
      "    prov:label \"abide:WASI\" .\n",
      "\n",
      "\n"
     ]
    }
   ],
   "source": [
    "print g.serialize(format='turtle')"
   ]
  },
  {
   "cell_type": "markdown",
   "metadata": {},
   "source": [
    "#Save RDF Turtle file to disk"
   ]
  },
  {
   "cell_type": "code",
   "execution_count": 8,
   "metadata": {
    "collapsed": false
   },
   "outputs": [],
   "source": [
    "with open(\"ABIDE_to_NIDM_RDFLib.ttl\",'w') as f:\n",
    "    f.write(g.serialize(format='turtle'))"
   ]
  },
  {
   "cell_type": "markdown",
   "metadata": {},
   "source": [
    "#Create RDF graph from DOT file"
   ]
  },
  {
   "cell_type": "code",
   "execution_count": 9,
   "metadata": {
    "collapsed": true
   },
   "outputs": [],
   "source": [
    "from rdflib.tools import rdf2dot\n",
    "with open(\"ABIDE_to_NIDM_RDFLib.dot\",'w') as f:\n",
    "    s = rdf2dot.rdf2dot(g, f)\n"
   ]
  },
  {
   "cell_type": "code",
   "execution_count": 10,
   "metadata": {
    "collapsed": false
   },
   "outputs": [
    {
     "data": {
      "text/plain": [
       "True"
      ]
     },
     "execution_count": 10,
     "metadata": {},
     "output_type": "execute_result"
    }
   ],
   "source": [
    "import pydot\n",
    "g = pydot.graph_from_dot_file('ABIDE_to_NIDM_RDFLib.dot')\n",
    "g.write_png('ABIDE_to_NIDM_RDFLib.png')"
   ]
  }
 ],
 "metadata": {
  "kernelspec": {
   "display_name": "Python 2",
   "language": "python",
   "name": "python2"
  },
  "language_info": {
   "codemirror_mode": {
    "name": "ipython",
    "version": 2
   },
   "file_extension": ".py",
   "mimetype": "text/x-python",
   "name": "python",
   "nbconvert_exporter": "python",
   "pygments_lexer": "ipython2",
   "version": "2.7.10"
  }
 },
 "nbformat": 4,
 "nbformat_minor": 0
}
