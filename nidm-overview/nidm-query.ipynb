{
 "cells": [
  {
   "cell_type": "markdown",
   "metadata": {
    "slideshow": {
     "slide_type": "slide"
    }
   },
   "source": [
    "# NIDM: A Summary in many parts\n",
    "\n",
    "## Part 3: Querying NIDM with SPARQL\n",
    "\n",
    "satra@mit.edu, nolan.nichols@gmail.com\n",
    "\n",
    "[Latest version](https://github.com/INCF/ni-/notebooks/master/NIDMQuery.ipynb)"
   ]
  },
  {
   "cell_type": "markdown",
   "metadata": {
    "slideshow": {
     "slide_type": "slide"
    }
   },
   "source": [
    "## Outline\n",
    "\n",
    "- Related notebooks\n",
    "- Querying object models with [SPARQL](http://www.w3.org/TR/rdf-sparql-query/) using a [triplestore](http://en.wikipedia.org/wiki/Triplestore)"
   ]
  },
  {
   "cell_type": "markdown",
   "metadata": {
    "slideshow": {
     "slide_type": "slide"
    }
   },
   "source": [
    "## Related notebooks\n",
    "\n"
   ]
  },
  {
   "cell_type": "markdown",
   "metadata": {
    "slideshow": {
     "slide_type": "slide"
    }
   },
   "source": [
    "### Querying object models with SPARQL using a triplestore\n",
    "\n",
    "In this section we will show example SPARQL queries that access a triplestore.\n",
    "\n",
    "    - What is a triplestore?\n",
    "    - How are NI-DM objects uploaded to a triplestore?\n",
    "    - How do we query a triplestore for data stored using NI-DM?"
   ]
  },
  {
   "cell_type": "markdown",
   "metadata": {
    "slideshow": {
     "slide_type": "subslide"
    }
   },
   "source": [
    "### What is a triplestore?\n",
    "\n",
    "    - A triplestore is a database for storing RDF triples (i.e., subject, predicate, object statements). \n",
    "    - The triplestore provides a way to create, read, update, and delete persisted RDF statements using the SPARQL 1.1 protocol. \n",
    "    - Here we are using the triplestore functionality of the Virtuoso database (http://virtuoso.openlinksw.com/) \n",
    "    - The specific triplestore can easily be swapped for another system such as Jena or Seseme."
   ]
  },
  {
   "cell_type": "markdown",
   "metadata": {
    "slideshow": {
     "slide_type": "subslide"
    }
   },
   "source": [
    "### How are NIDM objects uploaded to a triplestore?\n",
    "\n",
    "    - The examples above demonstrates how to create a collection of NI-DM FreeSurfer objects in RDF.\n",
    "    - RDF files can be bulk uploaded through the Virtuoso web interface or using a SPARQL Insert Statement\n",
    "    - This is an example of adding a single RDF triple"
   ]
  },
  {
   "cell_type": "code",
   "execution_count": null,
   "metadata": {
    "collapsed": false,
    "slideshow": {
     "slide_type": "subslide"
    }
   },
   "outputs": [],
   "source": [
    "import requests\n",
    "from requests.auth import HTTPDigestAuth\n",
    "\n",
    "from IPython.core.display import HTML\n",
    "\n",
    "\"\"\"\n",
    "    This is just an example\n",
    "\"\"\"\n",
    "\n",
    "\n",
    "# connection params for secure endpoint\n",
    "endpoint = 'http://computor.mit.edu:8890/sparql'\n",
    "username = 'username'\n",
    "password = 'password'\n",
    "\n",
    "# session defaults\n",
    "session = requests.Session()\n",
    "session.auth = HTTPDigestAuth(username, password)\n",
    "\n",
    "session.headers = {'Accept':'text/html'} # HTML from SELECT queries\n",
    "\n",
    "# INSERT - CREATE new triples\n",
    "query =  \"\"\"PREFIX nidm: <http://nidm.nidash.org#>\n",
    "            PREFIX prov: <http://www.w3.org/ns/prov#>\n",
    "            PREFIX nlx: <http://uri.neuinfo.org/nif/nifstd/>\n",
    "            \n",
    "            INSERT DATA\n",
    "            INTO GRAPH <http://nidm.nidash.org>\n",
    "                {nidm:UUID12345 a prov:Entity;\n",
    "                    nlx:nlx_150774 \"2.0\"}\"\"\"\n",
    "\n",
    "data = {'query': query}\n",
    "result = session.post(endpoint, data=data)\n",
    "HTML(result.content)"
   ]
  },
  {
   "cell_type": "markdown",
   "metadata": {
    "slideshow": {
     "slide_type": "subslide"
    }
   },
   "source": [
    "### How do we query a triplestore for data stored using NI-DM?\n",
    "\n",
    "    - this example shows how to query for FreeSurfer details given a subject id"
   ]
  },
  {
   "cell_type": "code",
   "execution_count": null,
   "metadata": {
    "collapsed": false,
    "slideshow": {
     "slide_type": "subslide"
    }
   },
   "outputs": [],
   "source": [
    "    def getSubjectDetails(self, subject_id):\n",
    "        session = requests.Session()\n",
    "\n",
    "        qstring = '''\n",
    "        PREFIX fs: <http://surfer.nmr.mgh.harvard.edu/fswiki/#>\n",
    "        PREFIX xsd: <http://www.w3.org/2001/XMLSchema#>\n",
    "        PREFIX nidm: <http://nidm.nidash.org/#>\n",
    "        PREFIX prov: <http://www.w3.org/ns/prov#>\n",
    "\n",
    "        select distinct ?structureName ?structureGV where {\n",
    "             ?subjectCollection fs:subject_id \"%s\"^^<http://www.w3.org/2001/XMLSchema#string> .\n",
    "             ?subjectCollection prov:hadMember ?otherMembers .\n",
    "             ?collectionFromProv prov:wasDerivedFrom ?otherMembers .\n",
    "             ?collectionFromProv prov:hadMember ?membersOfProvCollection .\n",
    "             ?membersOfProvCollection a fs:GrayVol . # filter by those that have a type of fs:GrayVol(ume)\n",
    "             ?membersOfProvCollection fs:structure ?structureName . \n",
    "             ?membersOfProvCollection fs:value ?structureGV .\n",
    "        } ''' % (subject_id)"
   ]
  }
 ],
 "metadata": {
  "kernelspec": {
   "display_name": "Python 2",
   "language": "python",
   "name": "python2"
  },
  "language_info": {
   "codemirror_mode": {
    "name": "ipython",
    "version": 2
   },
   "file_extension": ".py",
   "mimetype": "text/x-python",
   "name": "python",
   "nbconvert_exporter": "python",
   "pygments_lexer": "ipython2",
   "version": "2.7.10"
  }
 },
 "nbformat": 4,
 "nbformat_minor": 0
}
