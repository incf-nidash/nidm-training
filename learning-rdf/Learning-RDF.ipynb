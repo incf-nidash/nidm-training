{
 "cells": [
  {
   "cell_type": "markdown",
   "metadata": {
    "slideshow": {
     "slide_type": "slide"
    }
   },
   "source": [
    "# Learning RDF and RDFS\n",
    "## Semantic Data Management in Neuroscience\n",
    "<br />\n",
    "<br />\n",
    "### Nolan Nichols\n",
    "**SRI International**  \n",
    "**Stanford University**  \n",
    "Neuroimaging Data Model (NIDM) Working Group  \n",
    "International Neuroinformatics Coordinating Facility (INCF)"
   ]
  },
  {
   "cell_type": "markdown",
   "metadata": {
    "slideshow": {
     "slide_type": "slide"
    }
   },
   "source": [
    "# Overview\n",
    "- Scope of the Tutorials\n",
    "- When to Consider Using Semantic Web Technologies*\n",
    "- The Future of AI or a Flexible Data Model\n",
    "- Open-ended Problems\n",
    "- The Central Importance of the URI\n",
    "\n",
    "Note: This content is modeled on material from the [Semantic University](http://www.cambridgesemantics.com/semantic-university)."
   ]
  },
  {
   "cell_type": "markdown",
   "metadata": {},
   "source": [
    "# Scope of the Tutorials\n",
    "- Part 1\n",
    "  - RDF Data Model\n",
    "  - RDFS/OWL Schema Language\n",
    "- Part 2\n",
    "  - SPARQL Query Language\n",
    "  - Triple Store Database"
   ]
  },
  {
   "cell_type": "markdown",
   "metadata": {
    "slideshow": {
     "slide_type": "slide"
    }
   },
   "source": [
    "# When to Consider Using Semantic Web Technologies*\n",
    "- Does your use case involve documents and other forms of unstructured data?\n",
    "- Do you expect to add more kinds of data in the future?\n",
    "- Do you expect to add more views on the data in the future?\n",
    "- Do you expect to expand your application to require more kinds of users in the future?\n",
    "- Is the data scale less than petabytes?\n",
    "- Is the transaction volume modest? (e.g., hundreds versus tens of thousands of users)·\n",
    "- Does your application require only modest numeric calculations?  \n",
    "\n",
    "*http://www.cambridgesemantics.com/semantic-university/what-makes-good-semantic-web-application"
   ]
  },
  {
   "cell_type": "markdown",
   "metadata": {
    "slideshow": {
     "slide_type": "slide"
    }
   },
   "source": [
    "# The Resource Description Framework (RDF)\n",
    "- RDF is the foundation of the Semantic Web and what provides its innate flexibility. \n",
    "- All data in the Semantic Web is represented in RDF, including schema describing RDF data.\n",
    "- RDF is not like the tabular data model of relational databases. Nor is it like the trees of the XML world. Instead, RDF is a graph.\n",
    "- The graph nature of this data model means that it is by nature open-ended, so new data and new relationships can always be added.\n",
    "- The basic primitive is an RDF Statement or \"Triple\""
   ]
  },
  {
   "cell_type": "markdown",
   "metadata": {
    "slideshow": {
     "slide_type": "slide"
    }
   },
   "source": [
    "# RDF Triples\n",
    "![RDF](RDF-Statements.svg)"
   ]
  },
  {
   "cell_type": "markdown",
   "metadata": {
    "slideshow": {
     "slide_type": "slide"
    }
   },
   "source": [
    "# RDF Graphs\n",
    "- A labeled, directed graph.\n",
    "- Not \"graph\" as in \"charts and graphs\" but rather as in \"dots and lines.\"\n",
    "\n"
   ]
  },
  {
   "cell_type": "markdown",
   "metadata": {
    "collapsed": false,
    "slideshow": {
     "slide_type": "subslide"
    }
   },
   "source": [
    "# RDF Graphs\n",
    "\n",
    "# "
   ]
  },
  {
   "cell_type": "code",
   "execution_count": 2,
   "metadata": {
    "collapsed": false
   },
   "outputs": [
    {
     "name": "stdout",
     "output_type": "stream",
     "text": [
      "Learning-RDF.ipynb  RDF-Statements.svg\r\n"
     ]
    }
   ],
   "source": [
    "ls"
   ]
  },
  {
   "cell_type": "code",
   "execution_count": null,
   "metadata": {
    "collapsed": true
   },
   "outputs": [],
   "source": []
  }
 ],
 "metadata": {
  "celltoolbar": "Slideshow",
  "kernelspec": {
   "display_name": "Python 2",
   "language": "python",
   "name": "python2"
  },
  "language_info": {
   "codemirror_mode": {
    "name": "ipython",
    "version": 2
   },
   "file_extension": ".py",
   "mimetype": "text/x-python",
   "name": "python",
   "nbconvert_exporter": "python",
   "pygments_lexer": "ipython2",
   "version": "2.7.12"
  },
  "widgets": {
   "state": {},
   "version": "1.1.2"
  }
 },
 "nbformat": 4,
 "nbformat_minor": 0
}
