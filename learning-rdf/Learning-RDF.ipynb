{
 "cells": [
  {
   "cell_type": "markdown",
   "metadata": {
    "slideshow": {
     "slide_type": "slide"
    }
   },
   "source": [
    "# Learning RDF and RDFS\n",
    "## Semantic Data Management in Neuroscience\n",
    "<br />\n",
    "<br />\n",
    "### Nolan Nichols\n",
    "### SRI International  \n",
    "### Stanford University\n",
    "Neuroimaging Data Model (NIDM)  \n",
    "International Neuroinformatics Coordinating Facility (INCF)"
   ]
  },
  {
   "cell_type": "markdown",
   "metadata": {
    "slideshow": {
     "slide_type": "slide"
    }
   },
   "source": [
    "# Overview\n",
    "- Context\n",
    "- The Future of AI or a Flexible Data Model\n",
    "- Open-ended Problems\n"
   ]
  },
  {
   "cell_type": "markdown",
   "metadata": {
    "slideshow": {
     "slide_type": "slide"
    }
   },
   "source": [
    "# When to Consider Using Semantic Web Technologies*\n",
    "- Does your use case involve documents and other forms of unstructured data?\n",
    "\n",
    "- Do you expect to add more kinds of data in the future?\n",
    "\n",
    "- Do you expect to add more views on the data in the future?\n",
    "\n",
    "- Do you expect to expand your application to require more kinds of users in the future?\n",
    "\n",
    "- Is the data scale less than petabytes?\n",
    "\n",
    "- Is the transaction volume modest? (e.g., hundreds versus tens of thousands of users)· Does your application require only modest numeric calculations?  \n",
    "\n",
    "*http://www.cambridgesemantics.com/semantic-university/what-makes-good-semantic-web-application"
   ]
  },
  {
   "cell_type": "markdown",
   "metadata": {
    "slideshow": {
     "slide_type": "slide"
    }
   },
   "source": [
    "# The Resource Description Framework (RDF)\n",
    "- RDF is the foundation of the Semantic Web and what provides its innate flexibility. All data in the Semantic Web is represented in RDF, including schema describing RDF data.\n",
    "- RDF is not like the tabular data model of relational databases. Nor is it like the trees of the XML world. Instead, RDF is a graph.\n",
    "- The graph nature of this data model means that it is by nature open-ended, so new data and new relationships can always be added."
   ]
  },
  {
   "cell_type": "markdown",
   "metadata": {
    "slideshow": {
     "slide_type": "slide"
    }
   },
   "source": [
    "# RDF Graphs\n",
    "- a labeled, directed graph. Not \"graph\" as in \"charts and graphs\" but rather as in \"dots and lines.\"\n",
    "![RDF](RDF-Statements.svg)"
   ]
  },
  {
   "cell_type": "code",
   "execution_count": null,
   "metadata": {
    "collapsed": false
   },
   "outputs": [],
   "source": []
  },
  {
   "cell_type": "code",
   "execution_count": 2,
   "metadata": {
    "collapsed": false
   },
   "outputs": [
    {
     "name": "stdout",
     "output_type": "stream",
     "text": [
      "Learning-RDF.ipynb  RDF-Statements.svg\r\n"
     ]
    }
   ],
   "source": [
    "ls"
   ]
  },
  {
   "cell_type": "code",
   "execution_count": null,
   "metadata": {
    "collapsed": true
   },
   "outputs": [],
   "source": []
  }
 ],
 "metadata": {
  "celltoolbar": "Slideshow",
  "kernelspec": {
   "display_name": "Python 2",
   "language": "python",
   "name": "python2"
  },
  "language_info": {
   "codemirror_mode": {
    "name": "ipython",
    "version": 2
   },
   "file_extension": ".py",
   "mimetype": "text/x-python",
   "name": "python",
   "nbconvert_exporter": "python",
   "pygments_lexer": "ipython2",
   "version": "2.7.12"
  }
 },
 "nbformat": 4,
 "nbformat_minor": 0
}
