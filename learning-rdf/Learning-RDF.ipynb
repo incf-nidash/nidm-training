{
 "cells": [
  {
   "cell_type": "markdown",
   "metadata": {
    "slideshow": {
     "slide_type": "slide"
    }
   },
   "source": [
    "# Tutorial on Semantic Data Management in Neuroscience\n",
    "## Part 1: Learning RDF and RDFS\n",
    "\n",
    "<br />\n",
    "<br />\n",
    "### Nolan Nichols\n",
    "**SRI International**  \n",
    "**Stanford University**  \n",
    "Neuroimaging Data Model (NIDM) Working Group  \n",
    "International Neuroinformatics Coordinating Facility (INCF)"
   ]
  },
  {
   "cell_type": "markdown",
   "metadata": {
    "slideshow": {
     "slide_type": "notes"
    }
   },
   "source": [
    "# Prerequisites to run code in this notebook.\n",
    "\n",
    "- rdflib: https://github.com/RDFLib/rdflib"
   ]
  },
  {
   "cell_type": "markdown",
   "metadata": {
    "slideshow": {
     "slide_type": "slide"
    }
   },
   "source": [
    "# Scope of the Tutorials\n",
    "- Part 1\n",
    "  - RDF Data Model\n",
    "  - RDFS Schema Language\n",
    "- Part 2\n",
    "  - SPARQL Query Language\n",
    "  - Triple Store Database\n",
    "\n",
    "Note: This tutorial is modeled on material from the [Semantic University](http://www.cambridgesemantics.com/semantic-university)."
   ]
  },
  {
   "cell_type": "markdown",
   "metadata": {
    "slideshow": {
     "slide_type": "slide"
    }
   },
   "source": [
    "# Overview - Part 1\n",
    "- Motivation: Neuroimaging Data Model (NIDM)\n",
    "- When to Consider Using Semantic Web Technologies\n",
    "- Overview of RDF\n",
    "- The Central Importance of the URI\n",
    "- Overview of RDFS"
   ]
  },
  {
   "cell_type": "markdown",
   "metadata": {
    "slideshow": {
     "slide_type": "slide"
    }
   },
   "source": [
    "# Motivation: Neuroimaging Data Model (NIDM)\n",
    "![RDF](nidm.svg)"
   ]
  },
  {
   "cell_type": "markdown",
   "metadata": {
    "slideshow": {
     "slide_type": "slide"
    }
   },
   "source": [
    "# When to Consider Using Semantic Web Technologies\n",
    "- Do you expect to add more kinds of data in the future?\n",
    "- Do you expect to add more views on the data in the future?\n",
    "- Do you expect to expand your application with new kinds of users?\n",
    "- Is the data scale less than petabytes?\n",
    "- Is the transaction volume modest? (e.g., hundreds of users)\n",
    "- Does your application require only modest numeric calculations?  "
   ]
  },
  {
   "cell_type": "markdown",
   "metadata": {
    "slideshow": {
     "slide_type": "slide"
    }
   },
   "source": [
    "# The Resource Description Framework (RDF)\n",
    "- RDF is the foundation of the Semantic Web and what provides its innate flexibility. \n",
    "- All data in the Semantic Web is represented in RDF, including schema describing RDF data.\n",
    "- RDF is not like the tabular data model of relational databases or the trees in XML. RDF is a graph.\n",
    "- The graph nature of this data model means that it is by nature open-ended, new data and relationships can be added.\n",
    "- The basic primitive is an RDF Statement or \"Triple.\""
   ]
  },
  {
   "cell_type": "markdown",
   "metadata": {
    "slideshow": {
     "slide_type": "slide"
    }
   },
   "source": [
    "# The RDF Triple\n",
    "- An assertion or statement about a resource.\n",
    "- A Resource is the \"subject\" of the statement.\n",
    "- A Predicate is a relationship with another resource or literal.\n",
    "- An Object can be either another Resource or a Literal (e.g., string or integer)\n",
    "![RDF](triple.svg)"
   ]
  },
  {
   "cell_type": "markdown",
   "metadata": {
    "slideshow": {
     "slide_type": "slide"
    }
   },
   "source": [
    "# RDF Graph Triples\n",
    "- A labeled, directed graph.\n",
    "- Not \"graph\" as in \"charts and graphs\" but rather as in \"dots and lines.\"\n",
    "- Made up of a collection of \"triples.\"\n",
    "\n",
    "![RDF](triples.svg)"
   ]
  },
  {
   "cell_type": "markdown",
   "metadata": {
    "collapsed": false,
    "slideshow": {
     "slide_type": "slide"
    }
   },
   "source": [
    "# RDF Graph - Tokyo Data\n",
    "\n",
    "![RDF](tokyo-graph.svg)"
   ]
  },
  {
   "cell_type": "markdown",
   "metadata": {
    "slideshow": {
     "slide_type": "slide"
    }
   },
   "source": [
    "# RDF Graph - Subject Data\n",
    "\n",
    "![RDF](subject-graph.svg)"
   ]
  },
  {
   "cell_type": "markdown",
   "metadata": {
    "collapsed": false,
    "slideshow": {
     "slide_type": "slide"
    }
   },
   "source": [
    "# RDF Graph - Subject Data with Annotation\n",
    "\n",
    "![RDF](annot-graph.svg)"
   ]
  },
  {
   "cell_type": "markdown",
   "metadata": {
    "slideshow": {
     "slide_type": "slide"
    }
   },
   "source": [
    "# RDF Graph - Data Merging\n",
    "\n",
    "![RDF](merge-graph.svg)"
   ]
  },
  {
   "cell_type": "markdown",
   "metadata": {
    "slideshow": {
     "slide_type": "slide"
    }
   },
   "source": [
    "# The Central Importance of the URI\n",
    "- A Uniform Resource Identifier (URI) is a [string of charactors used to identify a **resource**][uri].\n",
    "  - For example: http://dbpedia.org/resource/Tokyo_Tokyo\n",
    "- In RDF, the URI is used to represent Subjects, Predicates, and Resource Nodes.\n",
    "- URI's provide a protocol for looking up (i.e., dereferencing) a resource on a network (e.,g., the World Wide Web).\n",
    "- The most common type of URI is a Uniform Resource Locator (URL), also known as a Web address.\n",
    "\n",
    "\n",
    "\n",
    "[uri]: http://ww"
   ]
  },
  {
   "cell_type": "markdown",
   "metadata": {
    "slideshow": {
     "slide_type": "slide"
    }
   },
   "source": [
    "# Example of RDF \n",
    "- RDF introduces a 'type system' for resources.\n",
    "- RDF models **Information Content**, can use multiple syntaxes (ntriples, XML, JSON-LD, Turtle)\n",
    "![RDF](type-system.svg)"
   ]
  },
  {
   "cell_type": "markdown",
   "metadata": {
    "slideshow": {
     "slide_type": "slide"
    }
   },
   "source": [
    "# Example of RDF as NTriples\n",
    "![RDF](ntriples.svg)"
   ]
  },
  {
   "cell_type": "markdown",
   "metadata": {
    "slideshow": {
     "slide_type": "slide"
    }
   },
   "source": [
    "# Example of RDF Serializations\n",
    "- Many syntaxes for displaying the same information.\n",
    "  - NTriples, XML, JSON, **Turtle**\n",
    "- Some of these syntaxes (i.e., serializations) use **prefixes** to make reading easier.\n",
    "  - Full URI: <http://www.w3c.org/ns/prov#Person>\n",
    "  - Prefix Declaration: `@prefix prov: <http://www.w3c.org/ns/prov#> .`\n",
    "  - Prefix Usage: `prov:Person`\n",
    "- Demo!\n",
    "  - using **rapper** commandline tool: http://librdf.org/raptor/rapper.html"
   ]
  },
  {
   "cell_type": "markdown",
   "metadata": {
    "slideshow": {
     "slide_type": "slide"
    }
   },
   "source": [
    "# RDF Schema (RDFS)\n",
    "- RDFS provides a schema language\n",
    "- Allows for simple inference, applying rules to add new facts to a dataset.\n",
    "- There are 2 forms of inference in RDFS\n",
    "  - **Class Hierarchy**: Infer additional types based on super classes\n",
    "  - **Domain of Properties**: Infer additional types based on property usage"
   ]
  },
  {
   "cell_type": "markdown",
   "metadata": {
    "slideshow": {
     "slide_type": "slide"
    }
   },
   "source": [
    "# RDFS Class Hierarchy\n",
    "![RDF](rdfs-subclass.svg)"
   ]
  },
  {
   "cell_type": "markdown",
   "metadata": {
    "slideshow": {
     "slide_type": "slide"
    }
   },
   "source": [
    "# RDFS Properties\n",
    "- Define new relationships\n",
    "- Relationships can have a domain and range\n",
    "- Domain allows to infer a class based on property usage \n",
    "![RDF](rdfs-property.svg)"
   ]
  },
  {
   "cell_type": "markdown",
   "metadata": {
    "slideshow": {
     "slide_type": "slide"
    }
   },
   "source": [
    "# Web Ontology Language (OWL)\n",
    "- A rich language for describing concepts, relationships, restrictions.\n",
    "- More expressive than RDFS, with many more forms of inference.\n",
    "- Tools (e.g., Protege) for editing and collaborating on vocabulary development.\n",
    "- Details are outside scope."
   ]
  },
  {
   "cell_type": "markdown",
   "metadata": {
    "slideshow": {
     "slide_type": "slide"
    }
   },
   "source": [
    "# PROV: An example OWL Ontology\n",
    "- Provenance is information about entities, activities, and people involved in producing a piece of data or thing, which can be used to form assessments about its quality, reliability or trustworthiness.\n",
    "![RDF](prov.svg)"
   ]
  },
  {
   "cell_type": "markdown",
   "metadata": {
    "slideshow": {
     "slide_type": "slide"
    }
   },
   "source": [
    "# Summary\n",
    "- Semantic Web standards provides a flexible data model (RDF) and schema languages (RDFS/OWL).\n",
    "- RDF provides a type system for describing data resources.\n",
    "- RDFS provides simple inferencing capabiilities based on Class Hierarchies, Domain, and Range.\n",
    "- OWL provide a rich ontology language for inference.\n",
    "- PROV is a standard language for describing data provencance.\n",
    "- In Part 2, we will see how to query these documents and dtor the in databases."
   ]
  }
 ],
 "metadata": {
  "celltoolbar": "Slideshow",
  "kernelspec": {
   "display_name": "Python 2",
   "language": "python",
   "name": "python2"
  },
  "language_info": {
   "codemirror_mode": {
    "name": "ipython",
    "version": 2
   },
   "file_extension": ".py",
   "mimetype": "text/x-python",
   "name": "python",
   "nbconvert_exporter": "python",
   "pygments_lexer": "ipython2",
   "version": "2.7.12"
  },
  "widgets": {
   "state": {},
   "version": "1.1.2"
  }
 },
 "nbformat": 4,
 "nbformat_minor": 0
}
